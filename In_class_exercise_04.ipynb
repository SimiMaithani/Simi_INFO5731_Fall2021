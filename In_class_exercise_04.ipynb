{
  "nbformat": 4,
  "nbformat_minor": 0,
  "metadata": {
    "kernelspec": {
      "display_name": "Python 3",
      "language": "python",
      "name": "python3"
    },
    "language_info": {
      "codemirror_mode": {
        "name": "ipython",
        "version": 3
      },
      "file_extension": ".py",
      "mimetype": "text/x-python",
      "name": "python",
      "nbconvert_exporter": "python",
      "pygments_lexer": "ipython3",
      "version": "3.8.5"
    },
    "colab": {
      "name": "In_class_exercise_04.ipynb",
      "provenance": [],
      "collapsed_sections": [],
      "include_colab_link": true
    }
  },
  "cells": [
    {
      "cell_type": "markdown",
      "metadata": {
        "id": "view-in-github",
        "colab_type": "text"
      },
      "source": [
        "<a href=\"https://colab.research.google.com/github/SimiMaithani/Simi_INFO5731_Fall2021/blob/main/In_class_exercise_04.ipynb\" target=\"_parent\"><img src=\"https://colab.research.google.com/assets/colab-badge.svg\" alt=\"Open In Colab\"/></a>"
      ]
    },
    {
      "cell_type": "markdown",
      "metadata": {
        "id": "_tx9rQlpFc0u"
      },
      "source": [
        "# **The seventh in-class-exercise (40 points in total, 10/20/2021)**"
      ]
    },
    {
      "cell_type": "markdown",
      "metadata": {
        "id": "qNMMnLehFc0v"
      },
      "source": [
        "Question description: Please use the text corpus you collected in your last in-class-exercise for this exercise. Perform the following tasks:"
      ]
    },
    {
      "cell_type": "markdown",
      "metadata": {
        "id": "D_TlvrsNFc0w"
      },
      "source": [
        "## (1) (15 points) Generate K topics by using LDA, the number of topics K should be decided by the coherence score, then summarize what are the topics. You may refer the code here: \n",
        "\n",
        "https://www.machinelearningplus.com/nlp/topic-modeling-gensim-python/"
      ]
    },
    {
      "cell_type": "code",
      "metadata": {
        "colab": {
          "base_uri": "https://localhost:8080/"
        },
        "id": "s7MZk_pjFc0w",
        "outputId": "b6bc016f-fd76-444d-c579-b5b3a7f67f6f"
      },
      "source": [
        "# Write your code here\n",
        "import nltk; nltk.download('stopwords')\n",
        "!python3 -m spacy download en"
      ],
      "execution_count": 2,
      "outputs": [
        {
          "output_type": "stream",
          "name": "stdout",
          "text": [
            "[nltk_data] Downloading package stopwords to /root/nltk_data...\n",
            "[nltk_data]   Package stopwords is already up-to-date!\n",
            "Collecting en_core_web_sm==2.2.5\n",
            "  Downloading https://github.com/explosion/spacy-models/releases/download/en_core_web_sm-2.2.5/en_core_web_sm-2.2.5.tar.gz (12.0 MB)\n",
            "\u001b[K     |████████████████████████████████| 12.0 MB 5.2 MB/s \n",
            "\u001b[?25hRequirement already satisfied: spacy>=2.2.2 in /usr/local/lib/python3.7/dist-packages (from en_core_web_sm==2.2.5) (2.2.4)\n",
            "Requirement already satisfied: cymem<2.1.0,>=2.0.2 in /usr/local/lib/python3.7/dist-packages (from spacy>=2.2.2->en_core_web_sm==2.2.5) (2.0.5)\n",
            "Requirement already satisfied: catalogue<1.1.0,>=0.0.7 in /usr/local/lib/python3.7/dist-packages (from spacy>=2.2.2->en_core_web_sm==2.2.5) (1.0.0)\n",
            "Requirement already satisfied: tqdm<5.0.0,>=4.38.0 in /usr/local/lib/python3.7/dist-packages (from spacy>=2.2.2->en_core_web_sm==2.2.5) (4.62.3)\n",
            "Requirement already satisfied: murmurhash<1.1.0,>=0.28.0 in /usr/local/lib/python3.7/dist-packages (from spacy>=2.2.2->en_core_web_sm==2.2.5) (1.0.5)\n",
            "Requirement already satisfied: setuptools in /usr/local/lib/python3.7/dist-packages (from spacy>=2.2.2->en_core_web_sm==2.2.5) (57.4.0)\n",
            "Requirement already satisfied: srsly<1.1.0,>=1.0.2 in /usr/local/lib/python3.7/dist-packages (from spacy>=2.2.2->en_core_web_sm==2.2.5) (1.0.5)\n",
            "Requirement already satisfied: preshed<3.1.0,>=3.0.2 in /usr/local/lib/python3.7/dist-packages (from spacy>=2.2.2->en_core_web_sm==2.2.5) (3.0.5)\n",
            "Requirement already satisfied: numpy>=1.15.0 in /usr/local/lib/python3.7/dist-packages (from spacy>=2.2.2->en_core_web_sm==2.2.5) (1.19.5)\n",
            "Requirement already satisfied: thinc==7.4.0 in /usr/local/lib/python3.7/dist-packages (from spacy>=2.2.2->en_core_web_sm==2.2.5) (7.4.0)\n",
            "Requirement already satisfied: wasabi<1.1.0,>=0.4.0 in /usr/local/lib/python3.7/dist-packages (from spacy>=2.2.2->en_core_web_sm==2.2.5) (0.8.2)\n",
            "Requirement already satisfied: plac<1.2.0,>=0.9.6 in /usr/local/lib/python3.7/dist-packages (from spacy>=2.2.2->en_core_web_sm==2.2.5) (1.1.3)\n",
            "Requirement already satisfied: requests<3.0.0,>=2.13.0 in /usr/local/lib/python3.7/dist-packages (from spacy>=2.2.2->en_core_web_sm==2.2.5) (2.23.0)\n",
            "Requirement already satisfied: blis<0.5.0,>=0.4.0 in /usr/local/lib/python3.7/dist-packages (from spacy>=2.2.2->en_core_web_sm==2.2.5) (0.4.1)\n",
            "Requirement already satisfied: importlib-metadata>=0.20 in /usr/local/lib/python3.7/dist-packages (from catalogue<1.1.0,>=0.0.7->spacy>=2.2.2->en_core_web_sm==2.2.5) (4.8.1)\n",
            "Requirement already satisfied: zipp>=0.5 in /usr/local/lib/python3.7/dist-packages (from importlib-metadata>=0.20->catalogue<1.1.0,>=0.0.7->spacy>=2.2.2->en_core_web_sm==2.2.5) (3.6.0)\n",
            "Requirement already satisfied: typing-extensions>=3.6.4 in /usr/local/lib/python3.7/dist-packages (from importlib-metadata>=0.20->catalogue<1.1.0,>=0.0.7->spacy>=2.2.2->en_core_web_sm==2.2.5) (3.7.4.3)\n",
            "Requirement already satisfied: idna<3,>=2.5 in /usr/local/lib/python3.7/dist-packages (from requests<3.0.0,>=2.13.0->spacy>=2.2.2->en_core_web_sm==2.2.5) (2.10)\n",
            "Requirement already satisfied: certifi>=2017.4.17 in /usr/local/lib/python3.7/dist-packages (from requests<3.0.0,>=2.13.0->spacy>=2.2.2->en_core_web_sm==2.2.5) (2021.5.30)\n",
            "Requirement already satisfied: chardet<4,>=3.0.2 in /usr/local/lib/python3.7/dist-packages (from requests<3.0.0,>=2.13.0->spacy>=2.2.2->en_core_web_sm==2.2.5) (3.0.4)\n",
            "Requirement already satisfied: urllib3!=1.25.0,!=1.25.1,<1.26,>=1.21.1 in /usr/local/lib/python3.7/dist-packages (from requests<3.0.0,>=2.13.0->spacy>=2.2.2->en_core_web_sm==2.2.5) (1.24.3)\n",
            "\u001b[38;5;2m✔ Download and installation successful\u001b[0m\n",
            "You can now load the model via spacy.load('en_core_web_sm')\n",
            "\u001b[38;5;2m✔ Linking successful\u001b[0m\n",
            "/usr/local/lib/python3.7/dist-packages/en_core_web_sm -->\n",
            "/usr/local/lib/python3.7/dist-packages/spacy/data/en\n",
            "You can now load the model via spacy.load('en')\n"
          ]
        }
      ]
    },
    {
      "cell_type": "code",
      "metadata": {
        "colab": {
          "base_uri": "https://localhost:8080/"
        },
        "id": "DY2uSL1-mXDF",
        "outputId": "3cc5e102-c8f6-4a3b-a52f-a704acb2e9c1"
      },
      "source": [
        "# Installing gensim and pyLDAvis modules\n",
        "!pip install pyLDAvis==2.1.2\n",
        "!pip install gensim==3.8.3\n",
        "import re\n",
        "import numpy as np\n",
        "import pandas as pd\n",
        "from pprint import pprint\n",
        "\n",
        "# Gensim\n",
        "import gensim\n",
        "import gensim.corpora as corpora\n",
        "from gensim.utils import simple_preprocess\n",
        "from gensim.models import CoherenceModel\n",
        "\n",
        "# spacy for lemmatization\n",
        "import spacy\n",
        "\n",
        "# Plotting tools\n",
        "import pyLDAvis\n",
        "import pyLDAvis.gensim  # don't skip this\n",
        "import matplotlib.pyplot as plt\n",
        "%matplotlib inline\n",
        "\n",
        "# Enable logging for gensim - optional\n",
        "import logging\n",
        "logging.basicConfig(format='%(asctime)s : %(levelname)s : %(message)s', level=logging.ERROR)\n",
        "\n",
        "import warnings\n",
        "warnings.filterwarnings(\"ignore\",category=DeprecationWarning)"
      ],
      "execution_count": 3,
      "outputs": [
        {
          "output_type": "stream",
          "name": "stdout",
          "text": [
            "Requirement already satisfied: pyLDAvis==2.1.2 in /usr/local/lib/python3.7/dist-packages (2.1.2)\n",
            "Requirement already satisfied: wheel>=0.23.0 in /usr/local/lib/python3.7/dist-packages (from pyLDAvis==2.1.2) (0.37.0)\n",
            "Requirement already satisfied: pandas>=0.17.0 in /usr/local/lib/python3.7/dist-packages (from pyLDAvis==2.1.2) (1.1.5)\n",
            "Requirement already satisfied: funcy in /usr/local/lib/python3.7/dist-packages (from pyLDAvis==2.1.2) (1.16)\n",
            "Requirement already satisfied: numpy>=1.9.2 in /usr/local/lib/python3.7/dist-packages (from pyLDAvis==2.1.2) (1.19.5)\n",
            "Requirement already satisfied: scipy>=0.18.0 in /usr/local/lib/python3.7/dist-packages (from pyLDAvis==2.1.2) (1.4.1)\n",
            "Requirement already satisfied: jinja2>=2.7.2 in /usr/local/lib/python3.7/dist-packages (from pyLDAvis==2.1.2) (2.11.3)\n",
            "Requirement already satisfied: numexpr in /usr/local/lib/python3.7/dist-packages (from pyLDAvis==2.1.2) (2.7.3)\n",
            "Requirement already satisfied: future in /usr/local/lib/python3.7/dist-packages (from pyLDAvis==2.1.2) (0.16.0)\n",
            "Requirement already satisfied: joblib>=0.8.4 in /usr/local/lib/python3.7/dist-packages (from pyLDAvis==2.1.2) (1.0.1)\n",
            "Requirement already satisfied: pytest in /usr/local/lib/python3.7/dist-packages (from pyLDAvis==2.1.2) (3.6.4)\n",
            "Requirement already satisfied: MarkupSafe>=0.23 in /usr/local/lib/python3.7/dist-packages (from jinja2>=2.7.2->pyLDAvis==2.1.2) (2.0.1)\n",
            "Requirement already satisfied: python-dateutil>=2.7.3 in /usr/local/lib/python3.7/dist-packages (from pandas>=0.17.0->pyLDAvis==2.1.2) (2.8.2)\n",
            "Requirement already satisfied: pytz>=2017.2 in /usr/local/lib/python3.7/dist-packages (from pandas>=0.17.0->pyLDAvis==2.1.2) (2018.9)\n",
            "Requirement already satisfied: six>=1.5 in /usr/local/lib/python3.7/dist-packages (from python-dateutil>=2.7.3->pandas>=0.17.0->pyLDAvis==2.1.2) (1.15.0)\n",
            "Requirement already satisfied: setuptools in /usr/local/lib/python3.7/dist-packages (from pytest->pyLDAvis==2.1.2) (57.4.0)\n",
            "Requirement already satisfied: atomicwrites>=1.0 in /usr/local/lib/python3.7/dist-packages (from pytest->pyLDAvis==2.1.2) (1.4.0)\n",
            "Requirement already satisfied: py>=1.5.0 in /usr/local/lib/python3.7/dist-packages (from pytest->pyLDAvis==2.1.2) (1.10.0)\n",
            "Requirement already satisfied: pluggy<0.8,>=0.5 in /usr/local/lib/python3.7/dist-packages (from pytest->pyLDAvis==2.1.2) (0.7.1)\n",
            "Requirement already satisfied: more-itertools>=4.0.0 in /usr/local/lib/python3.7/dist-packages (from pytest->pyLDAvis==2.1.2) (8.10.0)\n",
            "Requirement already satisfied: attrs>=17.4.0 in /usr/local/lib/python3.7/dist-packages (from pytest->pyLDAvis==2.1.2) (21.2.0)\n",
            "Requirement already satisfied: gensim==3.8.3 in /usr/local/lib/python3.7/dist-packages (3.8.3)\n",
            "Requirement already satisfied: smart-open>=1.8.1 in /usr/local/lib/python3.7/dist-packages (from gensim==3.8.3) (5.2.1)\n",
            "Requirement already satisfied: scipy>=0.18.1 in /usr/local/lib/python3.7/dist-packages (from gensim==3.8.3) (1.4.1)\n",
            "Requirement already satisfied: numpy>=1.11.3 in /usr/local/lib/python3.7/dist-packages (from gensim==3.8.3) (1.19.5)\n",
            "Requirement already satisfied: six>=1.5.0 in /usr/local/lib/python3.7/dist-packages (from gensim==3.8.3) (1.15.0)\n"
          ]
        },
        {
          "output_type": "stream",
          "name": "stderr",
          "text": [
            "/usr/local/lib/python3.7/dist-packages/past/types/oldstr.py:5: DeprecationWarning: Using or importing the ABCs from 'collections' instead of from 'collections.abc' is deprecated since Python 3.3,and in 3.9 it will stop working\n",
            "  from collections import Iterable\n",
            "/usr/local/lib/python3.7/dist-packages/past/builtins/misc.py:4: DeprecationWarning: Using or importing the ABCs from 'collections' instead of from 'collections.abc' is deprecated since Python 3.3,and in 3.9 it will stop working\n",
            "  from collections import Mapping\n"
          ]
        }
      ]
    },
    {
      "cell_type": "code",
      "metadata": {
        "id": "BKMnFo7fsKev"
      },
      "source": [
        "# Prepare stopwords\n",
        "\n",
        "from nltk.corpus import stopwords\n",
        "stop_words = stopwords.words('english')\n",
        "stop_words.extend(['from', 'subject', 're', 'edu', 'use'])"
      ],
      "execution_count": 4,
      "outputs": []
    },
    {
      "cell_type": "code",
      "metadata": {
        "colab": {
          "base_uri": "https://localhost:8080/",
          "height": 419
        },
        "id": "oImaNZbZstAk",
        "outputId": "9fda032b-ea30-4ee6-a673-1352e4cf2d16"
      },
      "source": [
        "df = pd.read_csv('citeseer1_file.csv')\n",
        "df"
      ],
      "execution_count": 5,
      "outputs": [
        {
          "output_type": "execute_result",
          "data": {
            "text/html": [
              "<div>\n",
              "<style scoped>\n",
              "    .dataframe tbody tr th:only-of-type {\n",
              "        vertical-align: middle;\n",
              "    }\n",
              "\n",
              "    .dataframe tbody tr th {\n",
              "        vertical-align: top;\n",
              "    }\n",
              "\n",
              "    .dataframe thead th {\n",
              "        text-align: right;\n",
              "    }\n",
              "</style>\n",
              "<table border=\"1\" class=\"dataframe\">\n",
              "  <thead>\n",
              "    <tr style=\"text-align: right;\">\n",
              "      <th></th>\n",
              "      <th>Title</th>\n",
              "      <th>Abstract</th>\n",
              "    </tr>\n",
              "  </thead>\n",
              "  <tbody>\n",
              "    <tr>\n",
              "      <th>0</th>\n",
              "      <td>A Maximum Entropy approach to Natural Language...</td>\n",
              "      <td>The concept of maximum entropy can be traced b...</td>\n",
              "    </tr>\n",
              "    <tr>\n",
              "      <th>1</th>\n",
              "      <td>Natural Language Processing</td>\n",
              "      <td>Scaling conditional random fields for natural ...</td>\n",
              "    </tr>\n",
              "    <tr>\n",
              "      <th>2</th>\n",
              "      <td>Linguistics and Natural Language Processing</td>\n",
              "      <td>The paper addresses the issue of cooperation b...</td>\n",
              "    </tr>\n",
              "    <tr>\n",
              "      <th>3</th>\n",
              "      <td>Natural Language Processing</td>\n",
              "      <td>In most natural language processing applicati...</td>\n",
              "    </tr>\n",
              "    <tr>\n",
              "      <th>4</th>\n",
              "      <td>Natural language processing (almost) from scratch</td>\n",
              "      <td>We propose a unified neural network architect...</td>\n",
              "    </tr>\n",
              "    <tr>\n",
              "      <th>...</th>\n",
              "      <td>...</td>\n",
              "      <td>...</td>\n",
              "    </tr>\n",
              "    <tr>\n",
              "      <th>994</th>\n",
              "      <td>Natural language processing (almost) from scratch</td>\n",
              "      <td>We propose a unified neural network archite...</td>\n",
              "    </tr>\n",
              "    <tr>\n",
              "      <th>995</th>\n",
              "      <td>Natural language processing</td>\n",
              "      <td>Natural Language Processing The subject of ...</td>\n",
              "    </tr>\n",
              "    <tr>\n",
              "      <th>996</th>\n",
              "      <td>Natural Language Processing/Robotics</td>\n",
              "      <td>Robots that interact with humans face-to-fa...</td>\n",
              "    </tr>\n",
              "    <tr>\n",
              "      <th>997</th>\n",
              "      <td>Tutorial on Natural Language Processing</td>\n",
              "      <td>Natural languages are languages spoken by h...</td>\n",
              "    </tr>\n",
              "    <tr>\n",
              "      <th>998</th>\n",
              "      <td>Ambiguities in Natural Language Processing</td>\n",
              "      <td>ABSTRACT: Ambiguity can be referred as the...</td>\n",
              "    </tr>\n",
              "  </tbody>\n",
              "</table>\n",
              "<p>999 rows × 2 columns</p>\n",
              "</div>"
            ],
            "text/plain": [
              "                                                 Title                                           Abstract\n",
              "0    A Maximum Entropy approach to Natural Language...  The concept of maximum entropy can be traced b...\n",
              "1                          Natural Language Processing  Scaling conditional random fields for natural ...\n",
              "2          Linguistics and Natural Language Processing  The paper addresses the issue of cooperation b...\n",
              "3                          Natural Language Processing   In most natural language processing applicati...\n",
              "4    Natural language processing (almost) from scratch   We propose a unified neural network architect...\n",
              "..                                                 ...                                                ...\n",
              "994  Natural language processing (almost) from scratch     We propose a unified neural network archite...\n",
              "995                        Natural language processing     Natural Language Processing The subject of ...\n",
              "996               Natural Language Processing/Robotics     Robots that interact with humans face-to-fa...\n",
              "997            Tutorial on Natural Language Processing     Natural languages are languages spoken by h...\n",
              "998         Ambiguities in Natural Language Processing      ABSTRACT: Ambiguity can be referred as the...\n",
              "\n",
              "[999 rows x 2 columns]"
            ]
          },
          "metadata": {},
          "execution_count": 5
        }
      ]
    },
    {
      "cell_type": "code",
      "metadata": {
        "colab": {
          "base_uri": "https://localhost:8080/"
        },
        "id": "E-8DeFyM8BUY",
        "outputId": "fb708042-8291-45f0-91a9-9ae496e27f9c"
      },
      "source": [
        "# # Convert to list\n",
        "data = df['Abstract'].tolist()\n",
        "\n",
        "# Remove Emails\n",
        "data = [re.sub('\\S*@\\S*\\s?', '', sent) for sent in data]\n",
        "\n",
        "# Remove new line characters\n",
        "data = [re.sub('\\s+', ' ', sent) for sent in data]\n",
        "\n",
        "# Remove distracting single quotes\n",
        "data = [re.sub(\"\\'\", \"\", sent) for sent in data]\n",
        "\n",
        "pprint(data[:1])"
      ],
      "execution_count": 6,
      "outputs": [
        {
          "output_type": "stream",
          "name": "stdout",
          "text": [
            "['The concept of maximum entropy can be traced back along multiple threads to '\n",
            " 'Biblical times. Only recently, however, have computers become powerful '\n",
            " 'enough to permit the widescale application of this concept to real world '\n",
            " 'problems in statistical estimation and pattern recognition. In this paper we '\n",
            " 'des ']\n"
          ]
        }
      ]
    },
    {
      "cell_type": "code",
      "metadata": {
        "colab": {
          "base_uri": "https://localhost:8080/"
        },
        "id": "j6w8dGjbIA-v",
        "outputId": "4359a894-b379-4e84-81ab-d494a1fe8df3"
      },
      "source": [
        "# Tokenize words and cleap up text\n",
        "def sent_to_words(sentences):\n",
        "    for sentence in sentences:\n",
        "        yield(gensim.utils.simple_preprocess(str(sentence), deacc=True))  # deacc=True removes punctuations\n",
        "\n",
        "data_words = list(sent_to_words(data))\n",
        "\n",
        "print(data_words[:1])"
      ],
      "execution_count": 7,
      "outputs": [
        {
          "output_type": "stream",
          "name": "stdout",
          "text": [
            "[['the', 'concept', 'of', 'maximum', 'entropy', 'can', 'be', 'traced', 'back', 'along', 'multiple', 'threads', 'to', 'biblical', 'times', 'only', 'recently', 'however', 'have', 'computers', 'become', 'powerful', 'enough', 'to', 'permit', 'the', 'widescale', 'application', 'of', 'this', 'concept', 'to', 'real', 'world', 'problems', 'in', 'statistical', 'estimation', 'and', 'pattern', 'recognition', 'in', 'this', 'paper', 'we', 'des']]\n"
          ]
        }
      ]
    },
    {
      "cell_type": "code",
      "metadata": {
        "colab": {
          "base_uri": "https://localhost:8080/"
        },
        "id": "MPUE0uM1IVUJ",
        "outputId": "8f665af2-5942-4b2f-92d5-2b5269e263cf"
      },
      "source": [
        "# Creating bigram and trigram models\n",
        "bigram = gensim.models.Phrases(data_words, min_count=5, threshold=100) # higher threshold fewer phrases.\n",
        "trigram = gensim.models.Phrases(bigram[data_words], threshold=100)  \n",
        "\n",
        "# Faster way to get a sentence clubbed as a trigram/bigram\n",
        "bigram_mod = gensim.models.phrases.Phraser(bigram)\n",
        "trigram_mod = gensim.models.phrases.Phraser(trigram)\n",
        "\n",
        "# See trigram example\n",
        "print(trigram_mod[bigram_mod[data_words[0]]])"
      ],
      "execution_count": 8,
      "outputs": [
        {
          "output_type": "stream",
          "name": "stdout",
          "text": [
            "['the', 'concept', 'of', 'maximum', 'entropy', 'can', 'be', 'traced', 'back', 'along', 'multiple', 'threads', 'to', 'biblical', 'times', 'only', 'recently', 'however', 'have', 'computers', 'become', 'powerful', 'enough', 'to', 'permit', 'the', 'widescale', 'application', 'of', 'this', 'concept', 'to', 'real', 'world', 'problems', 'in', 'statistical', 'estimation', 'and', 'pattern', 'recognition', 'in', 'this', 'paper', 'we', 'des']\n"
          ]
        }
      ]
    },
    {
      "cell_type": "code",
      "metadata": {
        "colab": {
          "base_uri": "https://localhost:8080/"
        },
        "id": "RNzUCVn4IraK",
        "outputId": "5e3e86c8-117e-4afa-b137-c6af304e3d09"
      },
      "source": [
        "# Remove Stopwords, Make Bigrams and Lemmatize\n",
        "# Define functions for stopwords, bigrams, trigrams and lemmatization\n",
        "def remove_stopwords(texts):\n",
        "    return [[word for word in simple_preprocess(str(doc)) if word not in stop_words] for doc in texts]\n",
        "\n",
        "def make_bigrams(texts):\n",
        "    return [bigram_mod[doc] for doc in texts]\n",
        "\n",
        "def make_trigrams(texts):\n",
        "    return [trigram_mod[bigram_mod[doc]] for doc in texts]\n",
        "\n",
        "def lemmatization(texts, allowed_postags=['NOUN', 'ADJ', 'VERB', 'ADV']):\n",
        "    \"\"\"https://spacy.io/api/annotation\"\"\"\n",
        "    texts_out = []\n",
        "    for sent in texts:\n",
        "        doc = nlp(\" \".join(sent)) \n",
        "        texts_out.append([token.lemma_ for token in doc if token.pos_ in allowed_postags])\n",
        "    return texts_out\n",
        "\n",
        "# Now calling the functions in order\n",
        "\n",
        "# Remove Stop Words\n",
        "data_words_nostops = remove_stopwords(data_words)\n",
        "\n",
        "# Form Bigrams\n",
        "data_words_bigrams = make_bigrams(data_words_nostops)\n",
        "\n",
        "# Initialize spacy 'en' model, keeping only tagger component (for efficiency)\n",
        "# python3 -m spacy download en\n",
        "nlp = spacy.load('en', disable=['parser', 'ner'])\n",
        "\n",
        "# Do lemmatization keeping only noun, adj, vb, adv\n",
        "data_lemmatized = lemmatization(data_words_bigrams, allowed_postags=['NOUN', 'ADJ', 'VERB', 'ADV'])\n",
        "\n",
        "print(data_lemmatized[:1])"
      ],
      "execution_count": 9,
      "outputs": [
        {
          "output_type": "stream",
          "name": "stdout",
          "text": [
            "[['entropy', 'trace', 'back', 'multiple', 'thread', 'biblical', 'time', 'recently', 'however', 'computer', 'become', 'powerful', 'enough', 'permit', 'widescale', 'application', 'concept', 'real', 'world', 'problem', 'statistical', 'estimation', 'pattern', 'recognition', 'paper']]\n"
          ]
        }
      ]
    },
    {
      "cell_type": "code",
      "metadata": {
        "colab": {
          "base_uri": "https://localhost:8080/"
        },
        "id": "7BVgY_50JPv_",
        "outputId": "a9380287-3bc2-48e7-a93f-decc88707cba"
      },
      "source": [
        "# Create the Dictionary and Corpus needed for Topic Modeling\n",
        "# Create Dictionary\n",
        "id2word = corpora.Dictionary(data_lemmatized)\n",
        "\n",
        "# Create Corpus\n",
        "texts = data_lemmatized\n",
        "\n",
        "# Term Document Frequency\n",
        "corpus = [id2word.doc2bow(text) for text in texts]\n",
        "\n",
        "# View\n",
        "print(corpus[:1])"
      ],
      "execution_count": 10,
      "outputs": [
        {
          "output_type": "stream",
          "name": "stdout",
          "text": [
            "[[(0, 1), (1, 1), (2, 1), (3, 1), (4, 1), (5, 1), (6, 1), (7, 1), (8, 1), (9, 1), (10, 1), (11, 1), (12, 1), (13, 1), (14, 1), (15, 1), (16, 1), (17, 1), (18, 1), (19, 1), (20, 1), (21, 1), (22, 1), (23, 1), (24, 1)]]\n"
          ]
        }
      ]
    },
    {
      "cell_type": "code",
      "metadata": {
        "colab": {
          "base_uri": "https://localhost:8080/",
          "height": 35
        },
        "id": "MMw46VifJfTJ",
        "outputId": "b2f63489-75cc-4bc6-e92d-05cfde9e3862"
      },
      "source": [
        "id2word[0]"
      ],
      "execution_count": 11,
      "outputs": [
        {
          "output_type": "execute_result",
          "data": {
            "application/vnd.google.colaboratory.intrinsic+json": {
              "type": "string"
            },
            "text/plain": [
              "'application'"
            ]
          },
          "metadata": {},
          "execution_count": 11
        }
      ]
    },
    {
      "cell_type": "code",
      "metadata": {
        "colab": {
          "base_uri": "https://localhost:8080/"
        },
        "id": "HnH7XWsSK2d5",
        "outputId": "7be13cd6-a3f3-4407-8ad2-dca293fe7ad4"
      },
      "source": [
        "# Human readable format of corpus (term-frequency)\n",
        "[[(id2word[id], freq) for id, freq in cp] for cp in corpus[:1]]"
      ],
      "execution_count": 12,
      "outputs": [
        {
          "output_type": "execute_result",
          "data": {
            "text/plain": [
              "[[('application', 1),\n",
              "  ('back', 1),\n",
              "  ('become', 1),\n",
              "  ('biblical', 1),\n",
              "  ('computer', 1),\n",
              "  ('concept', 1),\n",
              "  ('enough', 1),\n",
              "  ('entropy', 1),\n",
              "  ('estimation', 1),\n",
              "  ('however', 1),\n",
              "  ('multiple', 1),\n",
              "  ('paper', 1),\n",
              "  ('pattern', 1),\n",
              "  ('permit', 1),\n",
              "  ('powerful', 1),\n",
              "  ('problem', 1),\n",
              "  ('real', 1),\n",
              "  ('recently', 1),\n",
              "  ('recognition', 1),\n",
              "  ('statistical', 1),\n",
              "  ('thread', 1),\n",
              "  ('time', 1),\n",
              "  ('trace', 1),\n",
              "  ('widescale', 1),\n",
              "  ('world', 1)]]"
            ]
          },
          "metadata": {},
          "execution_count": 12
        }
      ]
    },
    {
      "cell_type": "code",
      "metadata": {
        "id": "iNrjy2b-K48B"
      },
      "source": [
        "# Build LDA model\n",
        "lda_model = gensim.models.ldamodel.LdaModel(corpus=corpus,\n",
        "                                           id2word=id2word,\n",
        "                                           num_topics=20, \n",
        "                                           random_state=100,\n",
        "                                           update_every=1,\n",
        "                                           chunksize=100,\n",
        "                                           passes=10,\n",
        "                                           alpha='auto',\n",
        "                                           per_word_topics=True)"
      ],
      "execution_count": 13,
      "outputs": []
    },
    {
      "cell_type": "code",
      "metadata": {
        "colab": {
          "base_uri": "https://localhost:8080/"
        },
        "id": "2YfEYEU3LGor",
        "outputId": "32db8ee0-41bb-49a2-e973-7f346f58cf20"
      },
      "source": [
        "# Print the Keyword in the 10 topics\n",
        "pprint(lda_model.print_topics())\n",
        "doc_lda = lda_model[corpus]"
      ],
      "execution_count": 14,
      "outputs": [
        {
          "output_type": "stream",
          "name": "stdout",
          "text": [
            "[(0,\n",
            "  '0.040*\"recognition\" + 0.040*\"thread\" + 0.040*\"problem\" + 0.040*\"real\" + '\n",
            "  '0.040*\"widescale\" + 0.040*\"permit\" + 0.040*\"statistical\" + 0.040*\"world\" + '\n",
            "  '0.040*\"trace\" + 0.040*\"recently\"'),\n",
            " (1,\n",
            "  '0.136*\"linguistic\" + 0.091*\"cooperation\" + 0.045*\"general\" + '\n",
            "  '0.045*\"particular\" + 0.045*\"nlp\" + 0.045*\"namely\" + 0.045*\"machine\" + '\n",
            "  '0.045*\"issue\" + 0.045*\"virtually\" + 0.045*\"ignore\"'),\n",
            " (2,\n",
            "  '0.008*\"broad\" + 0.008*\"cover\" + 0.008*\"unify\" + 0.008*\"various\" + '\n",
            "  '0.008*\"versatility\" + 0.008*\"analysis\" + 0.008*\"task\" + 0.008*\"consider\" + '\n",
            "  '0.008*\"sense\" + 0.008*\"narrow\"'),\n",
            " (3,\n",
            "  '0.166*\"language\" + 0.125*\"natural\" + 0.042*\"accomplish\" + 0.042*\"goal\" + '\n",
            "  '0.042*\"form\" + 0.042*\"employ\" + 0.042*\"technique\" + 0.042*\"currently\" + '\n",
            "  '0.042*\"field\" + 0.042*\"understand\"'),\n",
            " (4,\n",
            "  '0.142*\"language\" + 0.095*\"understand\" + 0.095*\"way\" + 0.095*\"natural\" + '\n",
            "  '0.048*\"refer\" + 0.048*\"able\" + 0.048*\"people\" + 0.048*\"processing\" + '\n",
            "  '0.048*\"meaning\" + 0.048*\"development\"'),\n",
            " (5,\n",
            "  '0.008*\"broad\" + 0.008*\"cover\" + 0.008*\"unify\" + 0.008*\"various\" + '\n",
            "  '0.008*\"versatility\" + 0.008*\"analysis\" + 0.008*\"task\" + 0.008*\"consider\" + '\n",
            "  '0.008*\"sense\" + 0.008*\"narrow\"'),\n",
            " (6,\n",
            "  '0.132*\"natural\" + 0.132*\"language\" + 0.132*\"processing\" + 0.067*\"broad\" + '\n",
            "  '0.067*\"sense\" + 0.033*\"speech\" + 0.033*\"refer\" + 0.033*\"issue\" + '\n",
            "  '0.033*\"consider\" + 0.033*\"cover\"'),\n",
            " (7,\n",
            "  '0.008*\"broad\" + 0.008*\"cover\" + 0.008*\"unify\" + 0.008*\"various\" + '\n",
            "  '0.008*\"versatility\" + 0.008*\"analysis\" + 0.008*\"task\" + 0.008*\"consider\" + '\n",
            "  '0.008*\"sense\" + 0.008*\"narrow\"'),\n",
            " (8,\n",
            "  '0.077*\"task\" + 0.038*\"specific\" + 0.038*\"part\" + 0.038*\"processing\" + '\n",
            "  '0.038*\"versatility\" + 0.038*\"various\" + 0.038*\"unify\" + 0.038*\"try\" + '\n",
            "  '0.038*\"tagging\" + 0.038*\"speech\"'),\n",
            " (9,\n",
            "  '0.091*\"semantic\" + 0.091*\"logic\" + 0.091*\"natural\" + 0.091*\"description\" + '\n",
            "  '0.091*\"language\" + 0.045*\"drive\" + 0.045*\"element\" + 0.045*\"use\" + '\n",
            "  '0.045*\"processing\" + 0.045*\"syntactic\"'),\n",
            " (10,\n",
            "  '0.008*\"broad\" + 0.008*\"cover\" + 0.008*\"unify\" + 0.008*\"various\" + '\n",
            "  '0.008*\"versatility\" + 0.008*\"analysis\" + 0.008*\"task\" + 0.008*\"consider\" + '\n",
            "  '0.008*\"sense\" + 0.008*\"narrow\"'),\n",
            " (11,\n",
            "  '0.008*\"broad\" + 0.008*\"cover\" + 0.008*\"unify\" + 0.008*\"various\" + '\n",
            "  '0.008*\"versatility\" + 0.008*\"analysis\" + 0.008*\"task\" + 0.008*\"consider\" + '\n",
            "  '0.008*\"sense\" + 0.008*\"narrow\"'),\n",
            " (12,\n",
            "  '0.120*\"language\" + 0.080*\"human\" + 0.080*\"face\" + 0.080*\"robot\" + '\n",
            "  '0.080*\"natural\" + 0.040*\"propose\" + 0.040*\"system\" + 0.040*\"speak\" + '\n",
            "  '0.040*\"situation\" + 0.040*\"responsive\"'),\n",
            " (13,\n",
            "  '0.008*\"broad\" + 0.008*\"cover\" + 0.008*\"unify\" + 0.008*\"various\" + '\n",
            "  '0.008*\"versatility\" + 0.008*\"analysis\" + 0.008*\"task\" + 0.008*\"consider\" + '\n",
            "  '0.008*\"sense\" + 0.008*\"narrow\"'),\n",
            " (14,\n",
            "  '0.008*\"broad\" + 0.008*\"cover\" + 0.008*\"unify\" + 0.008*\"various\" + '\n",
            "  '0.008*\"versatility\" + 0.008*\"analysis\" + 0.008*\"task\" + 0.008*\"consider\" + '\n",
            "  '0.008*\"sense\" + 0.008*\"narrow\"'),\n",
            " (15,\n",
            "  '0.008*\"broad\" + 0.008*\"cover\" + 0.008*\"unify\" + 0.008*\"various\" + '\n",
            "  '0.008*\"versatility\" + 0.008*\"analysis\" + 0.008*\"task\" + 0.008*\"consider\" + '\n",
            "  '0.008*\"sense\" + 0.008*\"narrow\"'),\n",
            " (16,\n",
            "  '0.125*\"term\" + 0.125*\"condition\" + 0.062*\"field\" + 0.062*\"language\" + '\n",
            "  '0.062*\"access\" + 0.062*\"conditional\" + 0.062*\"copyright\" + 0.062*\"deposit\" '\n",
            "  '+ 0.062*\"random\" + 0.062*\"scale\"'),\n",
            " (17,\n",
            "  '0.008*\"broad\" + 0.008*\"cover\" + 0.008*\"unify\" + 0.008*\"various\" + '\n",
            "  '0.008*\"versatility\" + 0.008*\"analysis\" + 0.008*\"task\" + 0.008*\"consider\" + '\n",
            "  '0.008*\"sense\" + 0.008*\"narrow\"'),\n",
            " (18,\n",
            "  '0.008*\"broad\" + 0.008*\"cover\" + 0.008*\"unify\" + 0.008*\"various\" + '\n",
            "  '0.008*\"versatility\" + 0.008*\"analysis\" + 0.008*\"task\" + 0.008*\"consider\" + '\n",
            "  '0.008*\"sense\" + 0.008*\"narrow\"'),\n",
            " (19,\n",
            "  '0.008*\"broad\" + 0.008*\"cover\" + 0.008*\"unify\" + 0.008*\"various\" + '\n",
            "  '0.008*\"versatility\" + 0.008*\"analysis\" + 0.008*\"task\" + 0.008*\"consider\" + '\n",
            "  '0.008*\"sense\" + 0.008*\"narrow\"')]\n"
          ]
        }
      ]
    },
    {
      "cell_type": "code",
      "metadata": {
        "colab": {
          "base_uri": "https://localhost:8080/"
        },
        "id": "QstXvGf-LPvt",
        "outputId": "121f488b-673d-4735-c250-9d7dbca0d9ea"
      },
      "source": [
        "# Compute Model Perplexity and Coherence Score\n",
        "\n",
        "print('\\nPerplexity: ', lda_model.log_perplexity(corpus))  # a measure of how good the model is. lower the better.\n",
        "\n",
        "coherence_model_lda = CoherenceModel(model=lda_model, texts=data_lemmatized, dictionary=id2word, coherence='c_v')\n",
        "coherence_lda = coherence_model_lda.get_coherence()\n",
        "print('\\nCoherence Score: ', coherence_lda)"
      ],
      "execution_count": 15,
      "outputs": [
        {
          "output_type": "stream",
          "name": "stdout",
          "text": [
            "\n",
            "Perplexity:  -3.0820071994459965\n",
            "\n",
            "Coherence Score:  0.4352043595814841\n"
          ]
        }
      ]
    },
    {
      "cell_type": "code",
      "metadata": {
        "colab": {
          "base_uri": "https://localhost:8080/"
        },
        "id": "sxeGldXoKKGj",
        "outputId": "70bc0eb1-8b4d-432d-d3c7-61800fe1dd05"
      },
      "source": [
        "!wget http://mallet.cs.umass.edu/dist/mallet-2.0.8.zip"
      ],
      "execution_count": 16,
      "outputs": [
        {
          "output_type": "stream",
          "name": "stdout",
          "text": [
            "--2021-10-23 00:04:32--  http://mallet.cs.umass.edu/dist/mallet-2.0.8.zip\n",
            "Resolving mallet.cs.umass.edu (mallet.cs.umass.edu)... 128.119.246.70\n",
            "Connecting to mallet.cs.umass.edu (mallet.cs.umass.edu)|128.119.246.70|:80... connected.\n",
            "HTTP request sent, awaiting response... 200 OK\n",
            "Length: 16184794 (15M) [application/zip]\n",
            "Saving to: ‘mallet-2.0.8.zip’\n",
            "\n",
            "mallet-2.0.8.zip    100%[===================>]  15.43M  10.4MB/s    in 1.5s    \n",
            "\n",
            "2021-10-23 00:04:34 (10.4 MB/s) - ‘mallet-2.0.8.zip’ saved [16184794/16184794]\n",
            "\n"
          ]
        }
      ]
    },
    {
      "cell_type": "code",
      "metadata": {
        "colab": {
          "base_uri": "https://localhost:8080/"
        },
        "id": "OlJ6oO7UKMWK",
        "outputId": "1c86f7da-782b-4987-e269-76120a77bcb6"
      },
      "source": [
        "!unzip mallet-2.0.8.zipn"
      ],
      "execution_count": 17,
      "outputs": [
        {
          "output_type": "stream",
          "name": "stdout",
          "text": [
            "unzip:  cannot find or open mallet-2.0.8.zipn, mallet-2.0.8.zipn.zip or mallet-2.0.8.zipn.ZIP.\n"
          ]
        }
      ]
    },
    {
      "cell_type": "code",
      "metadata": {
        "id": "eOa4NIOeLeNg"
      },
      "source": [
        "mallet_path = \"mallet-2.0.8/bin/mallet\"\n",
        "ldamallet = gensim.models.wrappers.LdaMallet(mallet_path, corpus=corpus, num_topics=20, id2word=id2word)"
      ],
      "execution_count": 65,
      "outputs": []
    },
    {
      "cell_type": "code",
      "metadata": {
        "colab": {
          "base_uri": "https://localhost:8080/"
        },
        "id": "hTBmOAc2KkSP",
        "outputId": "c9ff28f5-1f90-4146-ed47-e1a9dcb5f1d4"
      },
      "source": [
        "# Show Topics\n",
        "pprint(ldamallet.show_topics(formatted=False))\n",
        "\n",
        "# Compute Coherence Score\n",
        "coherence_model_ldamallet = CoherenceModel(model=ldamallet, texts=data_lemmatized, dictionary=id2word, coherence='c_v')\n",
        "coherence_ldamallet = coherence_model_ldamallet.get_coherence()\n",
        "print('\\nCoherence Score: ', coherence_ldamallet)"
      ],
      "execution_count": 67,
      "outputs": [
        {
          "output_type": "stream",
          "name": "stdout",
          "text": [
            "[(8,\n",
            "  [('language', 0.3954305799648506),\n",
            "   ('natural', 0.30579964850615116),\n",
            "   ('processing', 0.27240773286467485),\n",
            "   ('application', 0.026362038664323375),\n",
            "   ('narrow', 0.0),\n",
            "   ('sense', 0.0),\n",
            "   ('broad', 0.0),\n",
            "   ('consider', 0.0),\n",
            "   ('cover', 0.0),\n",
            "   ('level', 0.0)]),\n",
            " (9,\n",
            "  [('natural', 0.37132987910189985),\n",
            "   ('language', 0.3488773747841105),\n",
            "   ('computer', 0.27806563039723664),\n",
            "   ('speech', 0.0017271157167530224),\n",
            "   ('consider', 0.0),\n",
            "   ('level', 0.0),\n",
            "   ('versatility', 0.0),\n",
            "   ('analysis', 0.0),\n",
            "   ('broad', 0.0),\n",
            "   ('unify', 0.0)]),\n",
            " (5,\n",
            "  [('language', 0.4786476868327402),\n",
            "   ('natural', 0.28647686832740216),\n",
            "   ('processing', 0.23309608540925267),\n",
            "   ('cover', 0.0017793594306049821),\n",
            "   ('level', 0.0),\n",
            "   ('refer', 0.0),\n",
            "   ('analysis', 0.0),\n",
            "   ('broad', 0.0),\n",
            "   ('consider', 0.0),\n",
            "   ('various', 0.0)]),\n",
            " (11,\n",
            "  [('language', 0.31382978723404253),\n",
            "   ('computer', 0.24468085106382978),\n",
            "   ('natural', 0.17375886524822695),\n",
            "   ('application', 0.16843971631205673),\n",
            "   ('recognition', 0.08687943262411348),\n",
            "   ('processing', 0.012411347517730497),\n",
            "   ('consider', 0.0),\n",
            "   ('versatility', 0.0),\n",
            "   ('analysis', 0.0),\n",
            "   ('broad', 0.0)]),\n",
            " (4,\n",
            "  [('linguistic', 0.1888466413181242),\n",
            "   ('cooperation', 0.1267427122940431),\n",
            "   ('paper', 0.06527249683143219),\n",
            "   ('ignore', 0.06337135614702155),\n",
            "   ('general', 0.06337135614702155),\n",
            "   ('machine', 0.06337135614702155),\n",
            "   ('virtually', 0.06337135614702155),\n",
            "   ('focus', 0.06337135614702155),\n",
            "   ('direction', 0.06337135614702155),\n",
            "   ('address', 0.06337135614702155)]),\n",
            " (10,\n",
            "  [('pattern', 0.05390835579514825),\n",
            "   ('multiple', 0.05390835579514825),\n",
            "   ('thread', 0.05390835579514825),\n",
            "   ('statistical', 0.05390835579514825),\n",
            "   ('world', 0.05390835579514825),\n",
            "   ('real', 0.05390835579514825),\n",
            "   ('problem', 0.05390835579514825),\n",
            "   ('time', 0.05390835579514825),\n",
            "   ('permit', 0.05390835579514825),\n",
            "   ('trace', 0.05390835579514825)]),\n",
            " (1,\n",
            "  [('task', 0.12492192379762648),\n",
            "   ('labeling', 0.06246096189881324),\n",
            "   ('achieve', 0.06246096189881324),\n",
            "   ('specific', 0.06246096189881324),\n",
            "   ('role', 0.06246096189881324),\n",
            "   ('part', 0.06246096189881324),\n",
            "   ('unify', 0.06246096189881324),\n",
            "   ('versatility', 0.06246096189881324),\n",
            "   ('chunk', 0.06246096189881324),\n",
            "   ('avoid', 0.06246096189881324)]),\n",
            " (7,\n",
            "  [('logic', 0.1737619461337967),\n",
            "   ('description', 0.1737619461337967),\n",
            "   ('syntactic', 0.09730668983492616),\n",
            "   ('element', 0.08688097306689835),\n",
            "   ('generation', 0.08688097306689835),\n",
            "   ('process', 0.08688097306689835),\n",
            "   ('pragmatic', 0.08514335360556038),\n",
            "   ('drive', 0.08514335360556038),\n",
            "   ('recently', 0.06602953953084274),\n",
            "   ('interpretation', 0.05734144222415291)]),\n",
            " (0,\n",
            "  [('speak', 0.09207161125319693),\n",
            "   ('form', 0.08525149190110827),\n",
            "   ('point', 0.08525149190110827),\n",
            "   ('goal', 0.08525149190110827),\n",
            "   ('technique', 0.08525149190110827),\n",
            "   ('accomplish', 0.08525149190110827),\n",
            "   ('employ', 0.08525149190110827),\n",
            "   ('collection', 0.08525149190110827),\n",
            "   ('unprocessed', 0.08439897698209718),\n",
            "   ('field', 0.08098891730605286)]),\n",
            " (13,\n",
            "  [('language', 0.4370748299319728),\n",
            "   ('natural', 0.29931972789115646),\n",
            "   ('processing', 0.21768707482993196),\n",
            "   ('semantic', 0.04421768707482993),\n",
            "   ('include', 0.0017006802721088435),\n",
            "   ('consider', 0.0),\n",
            "   ('cover', 0.0),\n",
            "   ('narrow', 0.0),\n",
            "   ('sense', 0.0),\n",
            "   ('broad', 0.0)])]\n",
            "\n",
            "Coherence Score:  0.4158599644612284\n"
          ]
        }
      ]
    },
    {
      "cell_type": "code",
      "metadata": {
        "id": "3rGko-2ULjX-"
      },
      "source": [
        "def compute_coherence_values(dictionary, corpus, texts, limit, start=2, step=3):\n",
        "    \"\"\"\n",
        "    Compute c_v coherence for various number of topics\n",
        "\n",
        "    Parameters:\n",
        "    ----------\n",
        "    dictionary : Gensim dictionary\n",
        "    corpus : Gensim corpus\n",
        "    texts : List of input texts\n",
        "    limit : Max num of topics\n",
        "\n",
        "    Returns:\n",
        "    -------\n",
        "    model_list : List of LDA topic models\n",
        "    coherence_values : Coherence values corresponding to the LDA model with respective number of topics\n",
        "    \"\"\"\n",
        "    coherence_values = []\n",
        "    model_list = []\n",
        "    for num_topics in range(start, limit, step):\n",
        "        model = gensim.models.wrappers.LdaMallet(mallet_path, corpus=corpus, num_topics=num_topics, id2word=id2word)\n",
        "        model_list.append(model)\n",
        "        coherencemodel = CoherenceModel(model=model, texts=texts, dictionary=dictionary, coherence='c_v')\n",
        "        coherence_values.append(coherencemodel.get_coherence())\n",
        "\n",
        "    return model_list, coherence_values"
      ],
      "execution_count": 68,
      "outputs": []
    },
    {
      "cell_type": "code",
      "metadata": {
        "id": "8pNwH60TLlRE"
      },
      "source": [
        "# Can take a long time to run.\n",
        "model_list, coherence_values = compute_coherence_values(dictionary=id2word, corpus=corpus, texts=data_lemmatized, start=2, limit=40, step=6)"
      ],
      "execution_count": 69,
      "outputs": []
    },
    {
      "cell_type": "code",
      "metadata": {
        "colab": {
          "base_uri": "https://localhost:8080/",
          "height": 279
        },
        "id": "PVwSZFdvM53k",
        "outputId": "7b4bab2b-5fbb-41a6-f394-2591981e0e97"
      },
      "source": [
        "# Show graph\n",
        "limit=40; start=2; step=6;\n",
        "x = range(start, limit, step)\n",
        "plt.plot(x, coherence_values)\n",
        "plt.xlabel(\"Num Topics\")\n",
        "plt.ylabel(\"Coherence score\")\n",
        "plt.legend((\"coherence_values\"), loc='best')\n",
        "plt.show()"
      ],
      "execution_count": 70,
      "outputs": [
        {
          "output_type": "display_data",
          "data": {
            "image/png": "[encoded data removed]",
            "text/plain": [
              "<Figure size 432x288 with 1 Axes>"
            ]
          },
          "metadata": {
            "needs_background": "light"
          }
        }
      ]
    },
    {
      "cell_type": "code",
      "metadata": {
        "colab": {
          "base_uri": "https://localhost:8080/"
        },
        "id": "GEd15lZRNaxv",
        "outputId": "4256d1b6-839c-4962-e351-5fa58c64a9ec"
      },
      "source": [
        "# Print the coherence scores\n",
        "for m, cv in zip(x, coherence_values):\n",
        "    print(\"Num Topics =\", m, \" has Coherence Value of\", round(cv, 4))"
      ],
      "execution_count": 23,
      "outputs": [
        {
          "output_type": "stream",
          "name": "stdout",
          "text": [
            "Num Topics = 2  has Coherence Value of 0.3455\n",
            "Num Topics = 8  has Coherence Value of 0.5923\n",
            "Num Topics = 14  has Coherence Value of 0.4742\n",
            "Num Topics = 20  has Coherence Value of 0.391\n",
            "Num Topics = 26  has Coherence Value of 0.3972\n",
            "Num Topics = 32  has Coherence Value of 0.4045\n",
            "Num Topics = 38  has Coherence Value of 0.384\n"
          ]
        }
      ]
    },
    {
      "cell_type": "code",
      "metadata": {
        "colab": {
          "base_uri": "https://localhost:8080/"
        },
        "id": "ZxMA0JpFWLxc",
        "outputId": "f66ccea2-610f-4878-e00f-6f1ef288f79b"
      },
      "source": [
        "# Select the model and print the topics\n",
        "optimal_model = model_list[3]\n",
        "model_topics = optimal_model.show_topics(formatted=False)\n",
        "pprint(optimal_model.print_topics(num_words=10))"
      ],
      "execution_count": 24,
      "outputs": [
        {
          "output_type": "stream",
          "name": "stdout",
          "text": [
            "[(0,\n",
            "  '0.154*\"condition\" + 0.154*\"term\" + 0.077*\"deposit\" + 0.077*\"conditional\" + '\n",
            "  '0.077*\"copyright\" + 0.077*\"access\" + 0.077*\"field\" + 0.077*\"scale\" + '\n",
            "  '0.077*\"retain\" + 0.076*\"random\"'),\n",
            " (1,\n",
            "  '0.085*\"field\" + 0.085*\"employ\" + 0.085*\"point\" + 0.085*\"goal\" + '\n",
            "  '0.085*\"form\" + 0.085*\"technique\" + 0.085*\"collection\" + 0.085*\"unprocessed\" '\n",
            "  '+ 0.084*\"accomplish\" + 0.083*\"speak\"'),\n",
            " (2,\n",
            "  '0.364*\"language\" + 0.313*\"natural\" + 0.297*\"processing\" + 0.026*\"computer\" '\n",
            "  '+ 0.000*\"narrow\" + 0.000*\"analysis\" + 0.000*\"broad\" + 0.000*\"consider\" + '\n",
            "  '0.000*\"cover\" + 0.000*\"level\"'),\n",
            " (3,\n",
            "  '0.537*\"language\" + 0.343*\"natural\" + 0.115*\"processing\" + 0.003*\"syntactic\" '\n",
            "  '+ 0.002*\"work\" + 0.000*\"cover\" + 0.000*\"versatility\" + 0.000*\"analysis\" + '\n",
            "  '0.000*\"broad\" + 0.000*\"consider\"'),\n",
            " (4,\n",
            "  '0.125*\"task\" + 0.062*\"labeling\" + 0.062*\"unify\" + 0.062*\"specific\" + '\n",
            "  '0.062*\"role\" + 0.062*\"part\" + 0.062*\"tagging\" + 0.062*\"versatility\" + '\n",
            "  '0.062*\"eng\" + 0.062*\"avoid\"'),\n",
            " (5,\n",
            "  '0.358*\"natural\" + 0.335*\"processing\" + 0.302*\"language\" + 0.002*\"include\" + '\n",
            "  '0.002*\"term\" + 0.002*\"work\" + 0.000*\"cover\" + 0.000*\"analysis\" + '\n",
            "  '0.000*\"broad\" + 0.000*\"consider\"'),\n",
            " (6,\n",
            "  '0.420*\"natural\" + 0.360*\"language\" + 0.220*\"processing\" + 0.000*\"level\" + '\n",
            "  '0.000*\"refer\" + 0.000*\"analysis\" + 0.000*\"broad\" + 0.000*\"consider\" + '\n",
            "  '0.000*\"cover\" + 0.000*\"various\"'),\n",
            " (7,\n",
            "  '0.171*\"logic\" + 0.171*\"description\" + 0.085*\"pragmatic\" + 0.085*\"drive\" + '\n",
            "  '0.085*\"process\" + 0.085*\"generation\" + 0.085*\"element\" + '\n",
            "  '0.085*\"interpretation\" + 0.082*\"syntactic\" + 0.063*\"recently\"'),\n",
            " (8,\n",
            "  '0.403*\"recognition\" + 0.299*\"speech\" + 0.297*\"include\" + 0.001*\"broad\" + '\n",
            "  '0.000*\"analysis\" + 0.000*\"sense\" + 0.000*\"unify\" + 0.000*\"various\" + '\n",
            "  '0.000*\"versatility\" + 0.000*\"refer\"'),\n",
            " (9,\n",
            "  '0.136*\"human\" + 0.133*\"face\" + 0.133*\"robot\" + 0.068*\"speak\" + '\n",
            "  '0.067*\"interpretation\" + 0.066*\"responsive\" + 0.066*\"utterance\" + '\n",
            "  '0.066*\"system\" + 0.066*\"situation\" + 0.066*\"incremental\"'),\n",
            " (10,\n",
            "  '0.533*\"semantic\" + 0.383*\"processing\" + 0.079*\"application\" + '\n",
            "  '0.005*\"understanding\" + 0.000*\"consider\" + 0.000*\"level\" + 0.000*\"various\" '\n",
            "  '+ 0.000*\"versatility\" + 0.000*\"analysis\" + 0.000*\"broad\"'),\n",
            " (11,\n",
            "  '0.403*\"application\" + 0.240*\"paper\" + 0.188*\"computer\" + 0.117*\"recently\" + '\n",
            "  '0.047*\"recognition\" + 0.002*\"ignore\" + 0.002*\"random\" + 0.002*\"entity\" + '\n",
            "  '0.000*\"consider\" + 0.000*\"cover\"'),\n",
            " (12,\n",
            "  '0.201*\"understand\" + 0.101*\"nlp\" + 0.100*\"refer\" + 0.093*\"ability\" + '\n",
            "  '0.093*\"meaning\" + 0.093*\"development\" + 0.093*\"concerned\" + '\n",
            "  '0.093*\"ambiguous\" + 0.092*\"people\" + 0.039*\"computer\"'),\n",
            " (13,\n",
            "  '0.405*\"natural\" + 0.231*\"language\" + 0.217*\"semantic\" + 0.145*\"processing\" '\n",
            "  '+ 0.002*\"element\" + 0.000*\"level\" + 0.000*\"cover\" + 0.000*\"refer\" + '\n",
            "  '0.000*\"consider\" + 0.000*\"sentence\"'),\n",
            " (14,\n",
            "  '0.057*\"multiple\" + 0.057*\"world\" + 0.057*\"trace\" + 0.057*\"real\" + '\n",
            "  '0.057*\"problem\" + 0.057*\"time\" + 0.057*\"permit\" + 0.057*\"pattern\" + '\n",
            "  '0.057*\"widescale\" + 0.057*\"thread\"'),\n",
            " (15,\n",
            "  '0.443*\"language\" + 0.328*\"natural\" + 0.228*\"computer\" + 0.000*\"consider\" + '\n",
            "  '0.000*\"various\" + 0.000*\"versatility\" + 0.000*\"analysis\" + 0.000*\"broad\" + '\n",
            "  '0.000*\"unify\" + 0.000*\"cover\"'),\n",
            " (16,\n",
            "  '0.153*\"sense\" + 0.152*\"broad\" + 0.088*\"issue\" + 0.078*\"syntactic\" + '\n",
            "  '0.077*\"sentence\" + 0.077*\"narrow\" + 0.077*\"level\" + 0.077*\"cover\" + '\n",
            "  '0.077*\"analysis\" + 0.074*\"understanding\"'),\n",
            " (17,\n",
            "  '0.563*\"language\" + 0.291*\"natural\" + 0.146*\"processing\" + 0.000*\"level\" + '\n",
            "  '0.000*\"refer\" + 0.000*\"analysis\" + 0.000*\"broad\" + 0.000*\"consider\" + '\n",
            "  '0.000*\"cover\" + 0.000*\"various\"'),\n",
            " (18,\n",
            "  '0.197*\"linguistic\" + 0.131*\"cooperation\" + 0.066*\"virtually\" + '\n",
            "  '0.066*\"machine\" + 0.066*\"address\" + 0.066*\"direction\" + 0.066*\"focus\" + '\n",
            "  '0.066*\"general\" + 0.065*\"ignore\" + 0.065*\"translation\"'),\n",
            " (19,\n",
            "  '0.433*\"language\" + 0.240*\"natural\" + 0.205*\"processing\" + 0.116*\"semantic\" '\n",
            "  '+ 0.004*\"computer\" + 0.002*\"translation\" + 0.000*\"consider\" + 0.000*\"refer\" '\n",
            "  '+ 0.000*\"analysis\" + 0.000*\"broad\"')]\n"
          ]
        }
      ]
    },
    {
      "cell_type": "code",
      "metadata": {
        "colab": {
          "base_uri": "https://localhost:8080/",
          "height": 529
        },
        "id": "ZwEemmovWY9l",
        "outputId": "024578e9-365d-4a13-8466-751a9dbc3f71"
      },
      "source": [
        "def format_topics_sentences(ldamodel=lda_model, corpus=corpus, texts=data):\n",
        "    # Init output\n",
        "    sent_topics_df = pd.DataFrame()\n",
        "\n",
        "    # Get main topic in each document\n",
        "    for i, row in enumerate(ldamodel[corpus]):\n",
        "        row = sorted(row, key=lambda x: (x[1]), reverse=True)\n",
        "        # Get the Dominant topic, Perc Contribution and Keywords for each document\n",
        "        for j, (topic_num, prop_topic) in enumerate(row):\n",
        "            if j == 0:  # => dominant topic\n",
        "                wp = ldamodel.show_topic(topic_num)\n",
        "                topic_keywords = \", \".join([word for word, prop in wp])\n",
        "                sent_topics_df = sent_topics_df.append(pd.Series([int(topic_num), round(prop_topic,4), topic_keywords]), ignore_index=True)\n",
        "            else:\n",
        "                break\n",
        "    sent_topics_df.columns = ['Dominant_Topic', 'Perc_Contribution', 'Topic_Keywords']\n",
        "\n",
        "    # Add original text to the end of the output\n",
        "    contents = pd.Series(texts)\n",
        "    sent_topics_df = pd.concat([sent_topics_df, contents], axis=1)\n",
        "    return(sent_topics_df)\n",
        "\n",
        "\n",
        "df_topic_sents_keywords = format_topics_sentences(ldamodel=optimal_model, corpus=corpus, texts=data)\n",
        "\n",
        "# Format\n",
        "df_dominant_topic = df_topic_sents_keywords.reset_index()\n",
        "df_dominant_topic.columns = ['Document_No', 'Dominant_Topic', 'Topic_Perc_Contrib', 'Keywords', 'Text']\n",
        "\n",
        "# Show\n",
        "df_dominant_topic.head(10)"
      ],
      "execution_count": 25,
      "outputs": [
        {
          "output_type": "execute_result",
          "data": {
            "text/html": [
              "<div>\n",
              "<style scoped>\n",
              "    .dataframe tbody tr th:only-of-type {\n",
              "        vertical-align: middle;\n",
              "    }\n",
              "\n",
              "    .dataframe tbody tr th {\n",
              "        vertical-align: top;\n",
              "    }\n",
              "\n",
              "    .dataframe thead th {\n",
              "        text-align: right;\n",
              "    }\n",
              "</style>\n",
              "<table border=\"1\" class=\"dataframe\">\n",
              "  <thead>\n",
              "    <tr style=\"text-align: right;\">\n",
              "      <th></th>\n",
              "      <th>Document_No</th>\n",
              "      <th>Dominant_Topic</th>\n",
              "      <th>Topic_Perc_Contrib</th>\n",
              "      <th>Keywords</th>\n",
              "      <th>Text</th>\n",
              "    </tr>\n",
              "  </thead>\n",
              "  <tbody>\n",
              "    <tr>\n",
              "      <th>0</th>\n",
              "      <td>0</td>\n",
              "      <td>14.0</td>\n",
              "      <td>0.2801</td>\n",
              "      <td>multiple, world, trace, real, problem, time, p...</td>\n",
              "      <td>The concept of maximum entropy can be traced b...</td>\n",
              "    </tr>\n",
              "    <tr>\n",
              "      <th>1</th>\n",
              "      <td>1</td>\n",
              "      <td>0.0</td>\n",
              "      <td>0.2332</td>\n",
              "      <td>condition, term, deposit, conditional, copyrig...</td>\n",
              "      <td>Scaling conditional random fields for natural ...</td>\n",
              "    </tr>\n",
              "    <tr>\n",
              "      <th>2</th>\n",
              "      <td>2</td>\n",
              "      <td>18.0</td>\n",
              "      <td>0.2500</td>\n",
              "      <td>linguistic, cooperation, virtually, machine, a...</td>\n",
              "      <td>The paper addresses the issue of cooperation b...</td>\n",
              "    </tr>\n",
              "    <tr>\n",
              "      <th>3</th>\n",
              "      <td>3</td>\n",
              "      <td>7.0</td>\n",
              "      <td>0.2008</td>\n",
              "      <td>logic, description, pragmatic, drive, process,...</td>\n",
              "      <td>In most natural language processing applicati...</td>\n",
              "    </tr>\n",
              "    <tr>\n",
              "      <th>4</th>\n",
              "      <td>4</td>\n",
              "      <td>4.0</td>\n",
              "      <td>0.2549</td>\n",
              "      <td>task, labeling, unify, specific, role, part, t...</td>\n",
              "      <td>We propose a unified neural network architect...</td>\n",
              "    </tr>\n",
              "    <tr>\n",
              "      <th>5</th>\n",
              "      <td>5</td>\n",
              "      <td>16.0</td>\n",
              "      <td>0.2010</td>\n",
              "      <td>sense, broad, issue, syntactic, sentence, narr...</td>\n",
              "      <td>Natural Language Processing The subject of Nat...</td>\n",
              "    </tr>\n",
              "    <tr>\n",
              "      <th>6</th>\n",
              "      <td>6</td>\n",
              "      <td>9.0</td>\n",
              "      <td>0.2400</td>\n",
              "      <td>human, face, robot, speak, interpretation, res...</td>\n",
              "      <td>Robots that interact with humans face-to-face ...</td>\n",
              "    </tr>\n",
              "    <tr>\n",
              "      <th>7</th>\n",
              "      <td>7</td>\n",
              "      <td>1.0</td>\n",
              "      <td>0.1917</td>\n",
              "      <td>field, employ, point, goal, form, technique, c...</td>\n",
              "      <td>Natural languages are languages spoken by huma...</td>\n",
              "    </tr>\n",
              "    <tr>\n",
              "      <th>8</th>\n",
              "      <td>8</td>\n",
              "      <td>12.0</td>\n",
              "      <td>0.1766</td>\n",
              "      <td>understand, nlp, refer, ability, meaning, deve...</td>\n",
              "      <td>ABSTRACT: Ambiguity can be referred as the abi...</td>\n",
              "    </tr>\n",
              "    <tr>\n",
              "      <th>9</th>\n",
              "      <td>9</td>\n",
              "      <td>6.0</td>\n",
              "      <td>0.0577</td>\n",
              "      <td>natural, language, processing, level, refer, a...</td>\n",
              "      <td>Natural language Processing</td>\n",
              "    </tr>\n",
              "  </tbody>\n",
              "</table>\n",
              "</div>"
            ],
            "text/plain": [
              "   Document_No  ...                                               Text\n",
              "0            0  ...  The concept of maximum entropy can be traced b...\n",
              "1            1  ...  Scaling conditional random fields for natural ...\n",
              "2            2  ...  The paper addresses the issue of cooperation b...\n",
              "3            3  ...   In most natural language processing applicati...\n",
              "4            4  ...   We propose a unified neural network architect...\n",
              "5            5  ...  Natural Language Processing The subject of Nat...\n",
              "6            6  ...  Robots that interact with humans face-to-face ...\n",
              "7            7  ...  Natural languages are languages spoken by huma...\n",
              "8            8  ...  ABSTRACT: Ambiguity can be referred as the abi...\n",
              "9            9  ...                        Natural language Processing\n",
              "\n",
              "[10 rows x 5 columns]"
            ]
          },
          "metadata": {},
          "execution_count": 25
        }
      ]
    },
    {
      "cell_type": "code",
      "metadata": {
        "colab": {
          "base_uri": "https://localhost:8080/",
          "height": 204
        },
        "id": "LlE29kJnWqMz",
        "outputId": "d299c266-9b00-40d6-ca76-dfcd69999fe6"
      },
      "source": [
        "# Group top 5 sentences under each topic\n",
        "sent_topics_sorteddf_mallet = pd.DataFrame()\n",
        "\n",
        "sent_topics_outdf_grpd = df_topic_sents_keywords.groupby('Dominant_Topic')\n",
        "\n",
        "for i, grp in sent_topics_outdf_grpd:\n",
        "    sent_topics_sorteddf_mallet = pd.concat([sent_topics_sorteddf_mallet, \n",
        "                                             grp.sort_values(['Perc_Contribution'], ascending=[0]).head(1)], \n",
        "                                            axis=0)\n",
        "\n",
        "# Reset Index    \n",
        "sent_topics_sorteddf_mallet.reset_index(drop=True, inplace=True)\n",
        "\n",
        "# Format\n",
        "sent_topics_sorteddf_mallet.columns = ['Topic_Num', \"Topic_Perc_Contrib\", \"Keywords\", \"Text\"]\n",
        "\n",
        "# Show\n",
        "sent_topics_sorteddf_mallet.head()"
      ],
      "execution_count": 26,
      "outputs": [
        {
          "output_type": "execute_result",
          "data": {
            "text/html": [
              "<div>\n",
              "<style scoped>\n",
              "    .dataframe tbody tr th:only-of-type {\n",
              "        vertical-align: middle;\n",
              "    }\n",
              "\n",
              "    .dataframe tbody tr th {\n",
              "        vertical-align: top;\n",
              "    }\n",
              "\n",
              "    .dataframe thead th {\n",
              "        text-align: right;\n",
              "    }\n",
              "</style>\n",
              "<table border=\"1\" class=\"dataframe\">\n",
              "  <thead>\n",
              "    <tr style=\"text-align: right;\">\n",
              "      <th></th>\n",
              "      <th>Topic_Num</th>\n",
              "      <th>Topic_Perc_Contrib</th>\n",
              "      <th>Keywords</th>\n",
              "      <th>Text</th>\n",
              "    </tr>\n",
              "  </thead>\n",
              "  <tbody>\n",
              "    <tr>\n",
              "      <th>0</th>\n",
              "      <td>0.0</td>\n",
              "      <td>0.2348</td>\n",
              "      <td>condition, term, deposit, conditional, copyrig...</td>\n",
              "      <td>Scaling conditional random fields for natural...</td>\n",
              "    </tr>\n",
              "    <tr>\n",
              "      <th>1</th>\n",
              "      <td>1.0</td>\n",
              "      <td>0.1995</td>\n",
              "      <td>field, employ, point, goal, form, technique, c...</td>\n",
              "      <td>Natural languages are languages spoken by hum...</td>\n",
              "    </tr>\n",
              "    <tr>\n",
              "      <th>2</th>\n",
              "      <td>2.0</td>\n",
              "      <td>0.0660</td>\n",
              "      <td>language, natural, processing, computer, narro...</td>\n",
              "      <td>Natural Language Processing</td>\n",
              "    </tr>\n",
              "    <tr>\n",
              "      <th>3</th>\n",
              "      <td>3.0</td>\n",
              "      <td>0.0639</td>\n",
              "      <td>language, natural, processing, syntactic, work...</td>\n",
              "      <td>Natural Language Processing</td>\n",
              "    </tr>\n",
              "    <tr>\n",
              "      <th>4</th>\n",
              "      <td>4.0</td>\n",
              "      <td>0.2549</td>\n",
              "      <td>task, labeling, unify, specific, role, part, t...</td>\n",
              "      <td>We propose a unified neural network architect...</td>\n",
              "    </tr>\n",
              "  </tbody>\n",
              "</table>\n",
              "</div>"
            ],
            "text/plain": [
              "   Topic_Num  ...                                               Text\n",
              "0        0.0  ...   Scaling conditional random fields for natural...\n",
              "1        1.0  ...   Natural languages are languages spoken by hum...\n",
              "2        2.0  ...                        Natural Language Processing\n",
              "3        3.0  ...                        Natural Language Processing\n",
              "4        4.0  ...   We propose a unified neural network architect...\n",
              "\n",
              "[5 rows x 4 columns]"
            ]
          },
          "metadata": {},
          "execution_count": 26
        }
      ]
    },
    {
      "cell_type": "code",
      "metadata": {
        "colab": {
          "base_uri": "https://localhost:8080/",
          "height": 419
        },
        "id": "y4GVPpw1XOR6",
        "outputId": "e8727958-9bd2-43b6-db43-13dfd92a05fe"
      },
      "source": [
        "# Number of Documents for Each Topic\n",
        "topic_counts = df_topic_sents_keywords['Dominant_Topic'].value_counts()\n",
        "\n",
        "# Percentage of Documents for Each Topic\n",
        "topic_contribution = round(topic_counts/topic_counts.sum(), 4)\n",
        "\n",
        "# Topic Number and Keywords\n",
        "topic_num_keywords = df_topic_sents_keywords[['Dominant_Topic', 'Topic_Keywords']]\n",
        "\n",
        "# Concatenate Column wise\n",
        "df_dominant_topics = pd.concat([topic_num_keywords, topic_counts, topic_contribution], axis=1)\n",
        "\n",
        "# Change Column names\n",
        "df_dominant_topics.columns = ['Dominant_Topic', 'Topic_Keywords', 'Num_Documents', 'Perc_Documents']\n",
        "\n",
        "# Show\n",
        "df_dominant_topics"
      ],
      "execution_count": 27,
      "outputs": [
        {
          "output_type": "execute_result",
          "data": {
            "text/html": [
              "<div>\n",
              "<style scoped>\n",
              "    .dataframe tbody tr th:only-of-type {\n",
              "        vertical-align: middle;\n",
              "    }\n",
              "\n",
              "    .dataframe tbody tr th {\n",
              "        vertical-align: top;\n",
              "    }\n",
              "\n",
              "    .dataframe thead th {\n",
              "        text-align: right;\n",
              "    }\n",
              "</style>\n",
              "<table border=\"1\" class=\"dataframe\">\n",
              "  <thead>\n",
              "    <tr style=\"text-align: right;\">\n",
              "      <th></th>\n",
              "      <th>Dominant_Topic</th>\n",
              "      <th>Topic_Keywords</th>\n",
              "      <th>Num_Documents</th>\n",
              "      <th>Perc_Documents</th>\n",
              "    </tr>\n",
              "  </thead>\n",
              "  <tbody>\n",
              "    <tr>\n",
              "      <th>0.0</th>\n",
              "      <td>14.0</td>\n",
              "      <td>multiple, world, trace, real, problem, time, p...</td>\n",
              "      <td>102.0</td>\n",
              "      <td>0.1021</td>\n",
              "    </tr>\n",
              "    <tr>\n",
              "      <th>1.0</th>\n",
              "      <td>0.0</td>\n",
              "      <td>condition, term, deposit, conditional, copyrig...</td>\n",
              "      <td>100.0</td>\n",
              "      <td>0.1001</td>\n",
              "    </tr>\n",
              "    <tr>\n",
              "      <th>2.0</th>\n",
              "      <td>18.0</td>\n",
              "      <td>linguistic, cooperation, virtually, machine, a...</td>\n",
              "      <td>15.0</td>\n",
              "      <td>0.0150</td>\n",
              "    </tr>\n",
              "    <tr>\n",
              "      <th>3.0</th>\n",
              "      <td>7.0</td>\n",
              "      <td>logic, description, pragmatic, drive, process,...</td>\n",
              "      <td>20.0</td>\n",
              "      <td>0.0200</td>\n",
              "    </tr>\n",
              "    <tr>\n",
              "      <th>4.0</th>\n",
              "      <td>4.0</td>\n",
              "      <td>task, labeling, unify, specific, role, part, t...</td>\n",
              "      <td>100.0</td>\n",
              "      <td>0.1001</td>\n",
              "    </tr>\n",
              "    <tr>\n",
              "      <th>...</th>\n",
              "      <td>...</td>\n",
              "      <td>...</td>\n",
              "      <td>...</td>\n",
              "      <td>...</td>\n",
              "    </tr>\n",
              "    <tr>\n",
              "      <th>994.0</th>\n",
              "      <td>4.0</td>\n",
              "      <td>task, labeling, unify, specific, role, part, t...</td>\n",
              "      <td>NaN</td>\n",
              "      <td>NaN</td>\n",
              "    </tr>\n",
              "    <tr>\n",
              "      <th>995.0</th>\n",
              "      <td>16.0</td>\n",
              "      <td>sense, broad, issue, syntactic, sentence, narr...</td>\n",
              "      <td>NaN</td>\n",
              "      <td>NaN</td>\n",
              "    </tr>\n",
              "    <tr>\n",
              "      <th>996.0</th>\n",
              "      <td>9.0</td>\n",
              "      <td>human, face, robot, speak, interpretation, res...</td>\n",
              "      <td>NaN</td>\n",
              "      <td>NaN</td>\n",
              "    </tr>\n",
              "    <tr>\n",
              "      <th>997.0</th>\n",
              "      <td>1.0</td>\n",
              "      <td>field, employ, point, goal, form, technique, c...</td>\n",
              "      <td>NaN</td>\n",
              "      <td>NaN</td>\n",
              "    </tr>\n",
              "    <tr>\n",
              "      <th>998.0</th>\n",
              "      <td>12.0</td>\n",
              "      <td>understand, nlp, refer, ability, meaning, deve...</td>\n",
              "      <td>NaN</td>\n",
              "      <td>NaN</td>\n",
              "    </tr>\n",
              "  </tbody>\n",
              "</table>\n",
              "<p>999 rows × 4 columns</p>\n",
              "</div>"
            ],
            "text/plain": [
              "       Dominant_Topic  ... Perc_Documents\n",
              "0.0              14.0  ...         0.1021\n",
              "1.0               0.0  ...         0.1001\n",
              "2.0              18.0  ...         0.0150\n",
              "3.0               7.0  ...         0.0200\n",
              "4.0               4.0  ...         0.1001\n",
              "...               ...  ...            ...\n",
              "994.0             4.0  ...            NaN\n",
              "995.0            16.0  ...            NaN\n",
              "996.0             9.0  ...            NaN\n",
              "997.0             1.0  ...            NaN\n",
              "998.0            12.0  ...            NaN\n",
              "\n",
              "[999 rows x 4 columns]"
            ]
          },
          "metadata": {},
          "execution_count": 27
        }
      ]
    },
    {
      "cell_type": "markdown",
      "metadata": {
        "id": "QEZS1y7pFc0x"
      },
      "source": [
        "## (2) (15 points) Generate K topics by using LSA, the number of topics K should be decided by the coherence score, then summarize what are the topics. You may refer the code here:\n",
        "\n",
        "https://www.datacamp.com/community/tutorials/discovering-hidden-topics-python"
      ]
    },
    {
      "cell_type": "code",
      "metadata": {
        "id": "sdEsp1sXFc0x"
      },
      "source": [
        "# Write your code here\n",
        "\n",
        "#import modules\n",
        "import os.path\n",
        "from gensim import corpora\n",
        "from gensim.models import LsiModel\n",
        "from nltk.tokenize import RegexpTokenizer\n",
        "from nltk.corpus import stopwords\n",
        "from nltk.stem.porter import PorterStemmer\n",
        "from gensim.models.coherencemodel import CoherenceModel\n",
        "import matplotlib.pyplot as plt"
      ],
      "execution_count": 56,
      "outputs": []
    },
    {
      "cell_type": "code",
      "metadata": {
        "id": "neNYVac2h3So"
      },
      "source": [
        "def load_data(path,file_name):\n",
        "    \"\"\"\n",
        "    Input  : path and file_name\n",
        "    Purpose: loading text file\n",
        "    Output : list of paragraphs/documents and\n",
        "             title(initial 100 words considred as title of document)\n",
        "    \"\"\"\n",
        "    documents_list = []\n",
        "    titles=[]\n",
        "    with open( os.path.join(path, file_name) ,\"r\") as fin:\n",
        "        for line in fin.readlines():\n",
        "            text = line.strip()\n",
        "            documents_list.append(text)\n",
        "    print(\"Total Number of Documents:\",len(documents_list))\n",
        "    titles.append( text[0:min(len(text),100)] )\n",
        "    return documents_list,titles"
      ],
      "execution_count": 57,
      "outputs": []
    },
    {
      "cell_type": "code",
      "metadata": {
        "id": "Ox4JNYCFh7rB"
      },
      "source": [
        "def preprocess_data(doc_set):\n",
        "    \"\"\"\n",
        "    Input  : docuemnt list\n",
        "    Purpose: preprocess text (tokenize, removing stopwords, and stemming)\n",
        "    Output : preprocessed text\n",
        "    \"\"\"\n",
        "    # initialize regex tokenizer\n",
        "    tokenizer = RegexpTokenizer(r'\\w+')\n",
        "    # create English stop words list\n",
        "    en_stop = set(stopwords.words('english'))\n",
        "    # Create p_stemmer of class PorterStemmer\n",
        "    p_stemmer = PorterStemmer()\n",
        "    # list for tokenized documents in loop\n",
        "    texts = []\n",
        "    # loop through document list\n",
        "    for i in doc_set:\n",
        "        # clean and tokenize document string\n",
        "        raw = i.lower()\n",
        "        tokens = tokenizer.tokenize(raw)\n",
        "        # remove stop words from tokens\n",
        "        stopped_tokens = [i for i in tokens if not i in en_stop]\n",
        "        # stem tokens\n",
        "        stemmed_tokens = [p_stemmer.stem(i) for i in stopped_tokens]\n",
        "        # add tokens to list\n",
        "        texts.append(stemmed_tokens)\n",
        "    return texts"
      ],
      "execution_count": 58,
      "outputs": []
    },
    {
      "cell_type": "code",
      "metadata": {
        "id": "LOgRmyMAh_rq"
      },
      "source": [
        "def prepare_corpus(doc_clean):\n",
        "    \"\"\"\n",
        "    Input  : clean document\n",
        "    Purpose: create term dictionary of our courpus and Converting list of documents (corpus) into Document Term Matrix\n",
        "    Output : term dictionary and Document Term Matrix\n",
        "    \"\"\"\n",
        "    # Creating the term dictionary of our courpus, where every unique term is assigned an index. dictionary = corpora.Dictionary(doc_clean)\n",
        "    dictionary = corpora.Dictionary(doc_clean)\n",
        "    # Converting list of documents (corpus) into Document Term Matrix using dictionary prepared above.\n",
        "    doc_term_matrix = [dictionary.doc2bow(doc) for doc in doc_clean]\n",
        "    # generate LDA model\n",
        "    return dictionary,doc_term_matrix"
      ],
      "execution_count": 59,
      "outputs": []
    },
    {
      "cell_type": "code",
      "metadata": {
        "id": "M2HJc5x4iDBc"
      },
      "source": [
        "def create_gensim_lsa_model(doc_clean,number_of_topics,words):\n",
        "    \"\"\"\n",
        "    Input  : clean document, number of topics and number of words associated with each topic\n",
        "    Purpose: create LSA model using gensim\n",
        "    Output : return LSA model\n",
        "    \"\"\"\n",
        "    dictionary,doc_term_matrix=prepare_corpus(doc_clean)\n",
        "    # generate LSA model\n",
        "    lsamodel = LsiModel(doc_term_matrix, num_topics=number_of_topics, id2word = dictionary)  # train model\n",
        "    print(lsamodel.print_topics(num_topics=number_of_topics, num_words=words))\n",
        "    return lsamodel"
      ],
      "execution_count": 60,
      "outputs": []
    },
    {
      "cell_type": "code",
      "metadata": {
        "id": "dxPQ7djuiKlC"
      },
      "source": [
        "# Calculating the coherence values\n",
        "def compute_coherence_values(dictionary, doc_term_matrix, doc_clean, stop, start=2, step=3):\n",
        "    \"\"\"\n",
        "    Input   : dictionary : Gensim dictionary\n",
        "              corpus : Gensim corpus\n",
        "              texts : List of input texts\n",
        "              stop : Max num of topics\n",
        "    purpose : Compute c_v coherence for various number of topics\n",
        "    Output  : model_list : List of LSA topic models\n",
        "              coherence_values : Coherence values corresponding to the LDA model with respective number of topics\n",
        "    \"\"\"\n",
        "    coherence_values = []\n",
        "    model_list = []\n",
        "    for num_topics in range(start, stop, step):\n",
        "        # generate LSA model\n",
        "        model = LsiModel(doc_term_matrix, num_topics=number_of_topics, id2word = dictionary)  # train model\n",
        "        model_list.append(model)\n",
        "        coherencemodel = CoherenceModel(model=model, texts=doc_clean, dictionary=dictionary, coherence='c_v')\n",
        "        coherence_values.append(coherencemodel.get_coherence())\n",
        "    return model_list, coherence_values"
      ],
      "execution_count": 61,
      "outputs": []
    },
    {
      "cell_type": "code",
      "metadata": {
        "id": "-OobXns6iLgi"
      },
      "source": [
        "def plot_graph(doc_clean,start, stop, step):\n",
        "    dictionary,doc_term_matrix=prepare_corpus(doc_clean)\n",
        "    model_list, coherence_values = compute_coherence_values(dictionary, doc_term_matrix,doc_clean,\n",
        "                                                            stop, start, step)\n",
        "    # Show graph\n",
        "    x = range(start, stop, step)\n",
        "    plt.plot(x, coherence_values)\n",
        "    plt.xlabel(\"Number of Topics\")\n",
        "    plt.ylabel(\"Coherence score\")\n",
        "    plt.legend((\"coherence_values\"), loc='best')\n",
        "    plt.show()"
      ],
      "execution_count": 62,
      "outputs": []
    },
    {
      "cell_type": "code",
      "metadata": {
        "colab": {
          "base_uri": "https://localhost:8080/",
          "height": 279
        },
        "id": "T_Z7aWscif4j",
        "outputId": "4dc9b24b-12af-4d1b-cc1c-06bda5924c15"
      },
      "source": [
        "start,stop,step=2,12,1\n",
        "plot_graph(clean_text,start,stop,step)"
      ],
      "execution_count": 63,
      "outputs": [
        {
          "output_type": "display_data",
          "data": {
            "image/png": "[encoded data removed]",
            "text/plain": [
              "<Figure size 432x288 with 1 Axes>"
            ]
          },
          "metadata": {
            "needs_background": "light"
          }
        }
      ]
    },
    {
      "cell_type": "code",
      "metadata": {
        "colab": {
          "base_uri": "https://localhost:8080/"
        },
        "id": "4FRwxLwdrHUz",
        "outputId": "08ad0f46-cc45-4a11-f0b9-edf9e5ed8881"
      },
      "source": [
        "number_of_topics=10\n",
        "words=10\n",
        "document_list,titles=load_data(\"\",\"citeseer1_file.csv\")\n",
        "clean_text=preprocess_data(document_list)\n",
        "model=create_gensim_lsa_model(clean_text,number_of_topics,words)\n"
      ],
      "execution_count": 64,
      "outputs": [
        {
          "output_type": "stream",
          "name": "stdout",
          "text": [
            "Total Number of Documents: 1000\n",
            "[(0, '0.612*\"languag\" + 0.540*\"natur\" + 0.442*\"process\" + 0.110*\"semant\" + 0.073*\"human\" + 0.071*\"robot\" + 0.069*\"use\" + 0.069*\"way\" + 0.068*\"ambigu\" + 0.062*\"linguist\"'), (1, '-0.451*\"linguist\" + -0.233*\"nlp\" + -0.225*\"cooper\" + 0.216*\"robot\" + -0.192*\"paper\" + -0.184*\"applic\" + 0.167*\"human\" + -0.159*\"concept\" + -0.159*\"entropi\" + -0.159*\"maximum\"'), (2, '0.342*\"linguist\" + -0.264*\"entropi\" + -0.264*\"concept\" + -0.264*\"maximum\" + 0.209*\"nlp\" + 0.171*\"cooper\" + -0.164*\"recognit\" + 0.160*\"one\" + -0.149*\"recent\" + -0.135*\"statist\"'), (3, '-0.245*\"task\" + 0.201*\"ambigu\" + -0.200*\"process\" + 0.192*\"way\" + -0.178*\"includ\" + -0.178*\"speech\" + 0.174*\"robot\" + -0.166*\"semant\" + 0.147*\"human\" + 0.145*\"comput\"'), (4, '-0.306*\"robot\" + 0.302*\"ambigu\" + -0.267*\"use\" + -0.260*\"linguist\" + -0.204*\"face\" + -0.184*\"semant\" + -0.167*\"human\" + -0.165*\"interpret\" + -0.165*\"need\" + 0.137*\"understood\"'), (5, '0.235*\"task\" + -0.204*\"condit\" + -0.180*\"process\" + 0.174*\"propos\" + -0.173*\"logic\" + -0.173*\"descript\" + 0.170*\"robot\" + -0.157*\"syntact\" + 0.154*\"way\" + 0.146*\"ambigu\"'), (6, '-0.424*\"condit\" + -0.283*\"term\" + 0.234*\"ambigu\" + -0.224*\"field\" + 0.189*\"semant\" + 0.158*\"descript\" + 0.158*\"logic\" + 0.148*\"way\" + -0.141*\"random\" + -0.141*\"work\"'), (7, '-0.281*\"condit\" + 0.259*\"broad\" + 0.259*\"sens\" + -0.226*\"ambigu\" + -0.220*\"descript\" + -0.220*\"logic\" + -0.187*\"term\" + 0.146*\"issu\" + -0.134*\"one\" + 0.130*\"analysi\"'), (8, '-0.264*\"condit\" + -0.230*\"robot\" + -0.176*\"term\" + 0.163*\"logic\" + 0.163*\"descript\" + 0.162*\"tri\" + 0.158*\"yet\" + 0.158*\"unprocess\" + 0.158*\"tutori\" + 0.158*\"employ\"'), (9, '-0.519*\"foundat\" + -0.501*\"statist\" + -0.280*\"process\" + 0.171*\"semant\" + 0.142*\"sens\" + 0.142*\"broad\" + 0.122*\"condit\" + -0.115*\"natur\" + 0.109*\"syntact\" + 0.106*\"comput\"')]\n"
          ]
        }
      ]
    },
    {
      "cell_type": "markdown",
      "metadata": {
        "id": "u-tbjxjYFc0x"
      },
      "source": [
        "## (3) (10 points) Compare the results generated by the two topic modeling algorithms, which one is better? You should explain the reasons in details."
      ]
    },
    {
      "cell_type": "code",
      "metadata": {
        "id": "EOh5iCJ1Fc0x"
      },
      "source": [
        "# Write your answer here (no code needed for this question)\n",
        "# In LSA an LDA, each topic consist of a collection of words and each document is a mixture of topics. \n",
        "# We can see from the LSA graph above that out of the number of topics in the x-axis, 10 has the highest coherence\n",
        "# score on the y-axis. Therefore the optimum number of topics are 7 for LSA model.\n",
        "# In the LDA model, the perplexity came out to be -3.0820071994459965 which is not bad given that the lower the \n",
        "# better the model is. coherence score is a better indicator than perplexity and helps in better understanding \n",
        "# how good a model is. The initial coherence score is 0.4352043595814841. The higher the coherence score the better the\n",
        "# model is assumed to be. After changing the LDA algorithm and calculating the coherence score the second time, the\n",
        "# coherence value increased from 0.43 to 0.53.The optimal number of topics for the LDA model is 8. In my opinion LDA\n",
        "# is better than LSA because it has higher accuracy. LSA is also much faster to train than LDA.\n"
      ],
      "execution_count": 50,
      "outputs": []
    }
  ]
}