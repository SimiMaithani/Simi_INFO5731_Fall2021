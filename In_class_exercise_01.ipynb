{
  "nbformat": 4,
  "nbformat_minor": 0,
  "metadata": {
    "colab": {
      "name": "In_class_exercise_01.ipynb",
      "provenance": [],
      "collapsed_sections": [],
      "include_colab_link": true
    },
    "kernelspec": {
      "display_name": "Python 3",
      "language": "python",
      "name": "python3"
    },
    "language_info": {
      "codemirror_mode": {
        "name": "ipython",
        "version": 3
      },
      "file_extension": ".py",
      "mimetype": "text/x-python",
      "name": "python",
      "nbconvert_exporter": "python",
      "pygments_lexer": "ipython3",
      "version": "3.8.5"
    }
  },
  "cells": [
    {
      "cell_type": "markdown",
      "metadata": {
        "id": "view-in-github",
        "colab_type": "text"
      },
      "source": [
        "<a href=\"https://colab.research.google.com/github/SimiMaithani/Simi_INFO5731_Fall2021/blob/main/In_class_exercise_01.ipynb\" target=\"_parent\"><img src=\"https://colab.research.google.com/assets/colab-badge.svg\" alt=\"Open In Colab\"/></a>"
      ]
    },
    {
      "cell_type": "markdown",
      "metadata": {
        "id": "DymRJbxDBCnf"
      },
      "source": [
        "# **The first In-class-exercise (09/01/2021, 40 points in total)**"
      ]
    },
    {
      "cell_type": "markdown",
      "metadata": {
        "id": "03jb4GZsBkBS"
      },
      "source": [
        "(1) Write a Python program to calculate the length of a string. (4 points)"
      ]
    },
    {
      "cell_type": "code",
      "metadata": {
        "colab": {
          "base_uri": "https://localhost:8080/"
        },
        "id": "YaGLbSHHB8Ej",
        "outputId": "f3f7eb7b-1edd-44ba-81f9-674c941800bc"
      },
      "source": [
        "stringSimi = \"Hi, my name is Simi Maithani!\"\n",
        "print(len(stringSimi)) # len() returns the length of the string 'StringSimi'"
      ],
      "execution_count": 6,
      "outputs": [
        {
          "output_type": "stream",
          "name": "stdout",
          "text": [
            "29\n"
          ]
        }
      ]
    },
    {
      "cell_type": "markdown",
      "metadata": {
        "id": "jJDe71iLB616"
      },
      "source": [
        "(2) Write a Python program to count the number of characters in a string. (4 points)\n",
        "\n",
        "Sample String : 'google.com‘, \n",
        "\n",
        "Expected Result : {'o': 3, 'g': 2, '.': 1, 'e': 1, 'l': 1, 'm': 1, 'c': 1}"
      ]
    },
    {
      "cell_type": "code",
      "metadata": {
        "colab": {
          "base_uri": "https://localhost:8080/"
        },
        "id": "MtKskTzbCLaU",
        "outputId": "07a8bfc1-d47e-49b2-850c-74da86eaa465"
      },
      "source": [
        "# Creating a function called count_char that will hold the algorithm for calculating the number of characters in a string\n",
        "def count_char(sample_string):   \n",
        "  # Creating a dictionary for holding the key-value pairs\n",
        "  dict = {}\n",
        "  for char in sample_string:\n",
        "    char_keys = dict.keys()\n",
        "    if char in char_keys:\n",
        "      dict[char] = dict[char] + 1\n",
        "    else:\n",
        "      dict[char] = 1\n",
        "  return dict\n",
        "print(count_char('google.com'))"
      ],
      "execution_count": 20,
      "outputs": [
        {
          "output_type": "stream",
          "name": "stdout",
          "text": [
            "{'g': 2, 'o': 3, 'l': 1, 'e': 1, '.': 1, 'c': 1, 'm': 1}\n"
          ]
        }
      ]
    },
    {
      "cell_type": "markdown",
      "metadata": {
        "id": "55W9AMdXCSpV"
      },
      "source": [
        "(3) Write a Python program to sum all the items in a list. (4 points)"
      ]
    },
    {
      "cell_type": "code",
      "metadata": {
        "colab": {
          "base_uri": "https://localhost:8080/"
        },
        "id": "I57NXsauCec2",
        "outputId": "8357ed44-e7e2-4760-cb6b-4aeef6185129"
      },
      "source": [
        "def list(items):\n",
        "  sum_items = 0\n",
        "  for s in items:\n",
        "    sum_items = sum_items + s\n",
        "  return sum_items\n",
        "print(list([1,1,1,3]))"
      ],
      "execution_count": 9,
      "outputs": [
        {
          "output_type": "stream",
          "name": "stdout",
          "text": [
            "6\n"
          ]
        }
      ]
    },
    {
      "cell_type": "markdown",
      "metadata": {
        "id": "4ulBZ6yhCi9F"
      },
      "source": [
        "(4) Write a Python program to get a string from a given string where all occurrences of its first char have been changed to '\\$', except the first char itself. (4 points)\n",
        "\n",
        "> Indented block\n",
        "\n",
        "\n",
        "\n",
        "Sample String : 'restart‘, \n",
        "\n",
        "Expected Result : 'resta\\$t'"
      ]
    },
    {
      "cell_type": "code",
      "metadata": {
        "colab": {
          "base_uri": "https://localhost:8080/"
        },
        "id": "Fj0XhwbBCw2o",
        "outputId": "5ae680ee-3fea-4268-8b81-f419b880cf80"
      },
      "source": [
        "def change_occur(sample_string):\n",
        "  char = sample_string[0]\n",
        "  sample_string = sample_string.replace(char, '$')  # replacing the occurances with '$'\n",
        "  sample_string = char + sample_string[1:]          # making sure that the '0th' element does not get replaced\n",
        "\n",
        "  return sample_string\n",
        "\n",
        "print(change_occur('restart'))"
      ],
      "execution_count": 11,
      "outputs": [
        {
          "output_type": "stream",
          "name": "stdout",
          "text": [
            "resta$t\n"
          ]
        }
      ]
    },
    {
      "cell_type": "markdown",
      "metadata": {
        "id": "_bIP7s1MCzue"
      },
      "source": [
        "(5) Write a program with python which could accept two parameter a and b to calculate and output the result of S, where \n",
        "\n",
        "$\\ S=3.14*(1+a/b)^3$ (4 points)\n",
        "\n"
      ]
    },
    {
      "cell_type": "code",
      "metadata": {
        "colab": {
          "base_uri": "https://localhost:8080/"
        },
        "id": "w79QilHXD3Mg",
        "outputId": "752887cb-a2c8-4181-bba9-fb567ccb7a64"
      },
      "source": [
        "def calculate(a,b):\n",
        "  return 3.14 * (1+a/b) * (1+a/b) * (1+a/b)\n",
        "calculate (1,1)"
      ],
      "execution_count": 16,
      "outputs": [
        {
          "output_type": "execute_result",
          "data": {
            "text/plain": [
              "25.12"
            ]
          },
          "metadata": {},
          "execution_count": 16
        }
      ]
    },
    {
      "cell_type": "markdown",
      "metadata": {
        "id": "xCa2bK9aD4Q3"
      },
      "source": [
        "(6) Write a Python program to concatenate following dictionaries to create a new one. (4 points)\n",
        "\n",
        "Sample Dictionary : dic1={1:10, 2:20}, dic2={3:30, 4:40}, dic3={5:50,6:60}, \n",
        "\n",
        "Expected Result : {1: 10, 2: 20, 3: 30, 4: 40, 5: 50, 6: 60}\n"
      ]
    },
    {
      "cell_type": "code",
      "metadata": {
        "colab": {
          "base_uri": "https://localhost:8080/"
        },
        "id": "_z4aLqAbEET1",
        "outputId": "338532f4-0d31-4265-f134-b3af36da39bd"
      },
      "source": [
        "# using the .update() method for concatination\n",
        "dic1 = {1:10, 2:20}\n",
        "dic2 = {3:30, 4:40}\n",
        "dic3 = {5:50,6:60}\n",
        "dic4 = {}             #creating an empty dictionary so that we can concatinate the given dictionaries into it\n",
        "\n",
        "for dic in (dic1, dic2, dic3):\n",
        "  dic4.update(dic)\n",
        "\n",
        "print(dic4)"
      ],
      "execution_count": 19,
      "outputs": [
        {
          "output_type": "stream",
          "name": "stdout",
          "text": [
            "{1: 10, 2: 20, 3: 30, 4: 40, 5: 50, 6: 60}\n"
          ]
        }
      ]
    },
    {
      "cell_type": "markdown",
      "metadata": {
        "id": "0v48Vqa7FrQh"
      },
      "source": [
        "(7) Write a Python program to check whether an element exists within a tuple. (4 points)"
      ]
    },
    {
      "cell_type": "code",
      "metadata": {
        "colab": {
          "base_uri": "https://localhost:8080/"
        },
        "id": "7WEmgq-DF2P1",
        "outputId": "c96dd942-5733-40ac-83fd-47fb7c77081e"
      },
      "source": [
        "mixed_tuple = (\"Simi\", \"Lina\", \"Emily\", \"Jane\", \"John\", \"5\", \"6\", \"7\")\n",
        "print (\"Simi\" in mixed_tuple)\n",
        "print (\"Joe\" in mixed_tuple)"
      ],
      "execution_count": 17,
      "outputs": [
        {
          "output_type": "stream",
          "name": "stdout",
          "text": [
            "True\n",
            "False\n"
          ]
        }
      ]
    },
    {
      "cell_type": "markdown",
      "metadata": {
        "id": "vD5PYLMuGga_"
      },
      "source": [
        "(8) Write a Python program to find maximum and the minimum value in a set. (4 points)"
      ]
    },
    {
      "cell_type": "code",
      "metadata": {
        "colab": {
          "base_uri": "https://localhost:8080/"
        },
        "id": "t0D5kdJUGjjw",
        "outputId": "39f63639-26d6-4f71-d06a-1ad8bad85d90"
      },
      "source": [
        "# Using the max and min functions to find the maximum and minimum values in a set respectively.\n",
        "\n",
        "create_set = set()\n",
        "\n",
        "create_set.add(100)\n",
        "create_set.add(200)\n",
        "create_set.add(300)\n",
        "create_set.add(400)\n",
        "\n",
        "print(create_set)\n",
        "\n",
        "print(max(create_set)) # maximum value in the set\n",
        "\n",
        "print(min(create_set)) # minimum value in the set\n"
      ],
      "execution_count": 32,
      "outputs": [
        {
          "output_type": "stream",
          "name": "stdout",
          "text": [
            "{200, 100, 400, 300}\n",
            "400\n",
            "100\n"
          ]
        }
      ]
    },
    {
      "cell_type": "markdown",
      "metadata": {
        "id": "uHkd-y5VhVWC"
      },
      "source": [
        "(9) Write a Python program to randomly divide the students in this class into six groups for term projects, each group should have at least 4 students but no more than 6 students (including 6). Here is the students list: (4 points)\n",
        "\n",
        "studnet_list = ['vmb0067','pc0353','snd0097','yye0005','sg0940','bk0301','rak0120','rrk0058','spk0057','vl0135','nm0547','pn0159',\n",
        "           'msp0174','dd0420','ds0761','rs0850','ss1995','at0739','at0768','mv0299','tv0119','dy0091','py0080','ttp0037','hc0439','ri0094','pk0339', 'hn0145','mn0426']"
      ]
    },
    {
      "cell_type": "code",
      "metadata": {
        "colab": {
          "base_uri": "https://localhost:8080/"
        },
        "id": "3iGbmcOBhTwy",
        "outputId": "77ad3a03-7bce-4747-964c-0e264cf504b9"
      },
      "source": [
        "import random\n",
        "studnet_list = ['vmb0067','pc0353','snd0097','yye0005','sg0940','bk0301','rak0120','rrk0058','spk0057','vl0135','nm0547','pn0159', 'msp0174','dd0420',\n",
        "               'ds0761','rs0850','ss1995','at0739','at0768','mv0299','tv0119','dy0091','py0080','ttp0037','hc0439','ri0094','pk0339', 'hn0145','mn0426']\n",
        "\n",
        "# starting a for loop for iterations 4-6 random times\n",
        "print(\"The different groups are:\\n\")\n",
        "for j in range(6):\n",
        "  n = random.randint(4,6)\n",
        "  group = random.choices(studnet_list, k=n)\n",
        "  studnet_list = [j for j in studnet_list if j not in group]\n",
        "  print(group)"
      ],
      "execution_count": 7,
      "outputs": [
        {
          "output_type": "stream",
          "name": "stdout",
          "text": [
            "The different groups are:\n",
            "\n",
            "['ttp0037', 'mv0299', 'pn0159', 'ttp0037', 'yye0005']\n",
            "['dy0091', 'ss1995', 'ss1995', 'at0739']\n",
            "['pc0353', 'nm0547', 'vmb0067', 'rrk0058']\n",
            "['spk0057', 'msp0174', 'ds0761', 'spk0057']\n",
            "['bk0301', 'py0080', 'py0080', 'hc0439', 'tv0119', 'rak0120']\n",
            "['rs0850', 'at0768', 'pk0339', 'vl0135', 'at0768', 'at0768']\n"
          ]
        }
      ]
    },
    {
      "cell_type": "markdown",
      "metadata": {
        "id": "kPkDF4j1dZe-"
      },
      "source": [
        "(10) Write a Python program to find the duplicate elements in a given array of integers. Return -1 If there are no such elements. (4 points)"
      ]
    },
    {
      "cell_type": "code",
      "metadata": {
        "colab": {
          "base_uri": "https://localhost:8080/"
        },
        "id": "s1OOQ8rtdZe_",
        "outputId": "659d0aca-22ee-4335-f175-110f95b5ddb9"
      },
      "source": [
        "given_array = [1,2,2,3,4,5,20,30,30]\n",
        "\n",
        "print(\"Duplicate elements in the given array of integers are:\")\n",
        "\n",
        "for i in range(0, len(given_array)):\n",
        "  for j in range (i+1, len(given_array)):\n",
        "    if (given_array[i]==given_array[j]):\n",
        "      print(given_array[j])    \n"
      ],
      "execution_count": 19,
      "outputs": [
        {
          "output_type": "stream",
          "name": "stdout",
          "text": [
            "Duplicate elements in the given array of integers are:\n",
            "2\n",
            "30\n"
          ]
        }
      ]
    },
    {
      "cell_type": "markdown",
      "metadata": {
        "id": "yU4cW2l-dZfA"
      },
      "source": [
        "(11) Write a Python program to select all the Sundays of a specified year. (4 extra points)"
      ]
    },
    {
      "cell_type": "code",
      "metadata": {
        "colab": {
          "base_uri": "https://localhost:8080/"
        },
        "id": "675vW1xndZfB",
        "outputId": "41ad0ca1-545f-4345-ae49-ff30a9425a2a"
      },
      "source": [
        "from datetime import date, timedelta\n",
        "print(\"All the Sundays of the year 2019 are:\\n\")\n",
        "year = 2019\n",
        "Jan_date = date(year, 1, 1)\n",
        "Jan_date = Jan_date + timedelta(days = 6-Jan_date.weekday())\n",
        "while (Jan_date.year == year):\n",
        "  print (Jan_date)\n",
        "  Jan_date = Jan_date + timedelta(days = 7)\n",
        "\n"
      ],
      "execution_count": 15,
      "outputs": [
        {
          "output_type": "stream",
          "name": "stdout",
          "text": [
            "All the Sundays of the year 2019 are:\n",
            "\n",
            "2019-01-06\n",
            "2019-01-13\n",
            "2019-01-20\n",
            "2019-01-27\n",
            "2019-02-03\n",
            "2019-02-10\n",
            "2019-02-17\n",
            "2019-02-24\n",
            "2019-03-03\n",
            "2019-03-10\n",
            "2019-03-17\n",
            "2019-03-24\n",
            "2019-03-31\n",
            "2019-04-07\n",
            "2019-04-14\n",
            "2019-04-21\n",
            "2019-04-28\n",
            "2019-05-05\n",
            "2019-05-12\n",
            "2019-05-19\n",
            "2019-05-26\n",
            "2019-06-02\n",
            "2019-06-09\n",
            "2019-06-16\n",
            "2019-06-23\n",
            "2019-06-30\n",
            "2019-07-07\n",
            "2019-07-14\n",
            "2019-07-21\n",
            "2019-07-28\n",
            "2019-08-04\n",
            "2019-08-11\n",
            "2019-08-18\n",
            "2019-08-25\n",
            "2019-09-01\n",
            "2019-09-08\n",
            "2019-09-15\n",
            "2019-09-22\n",
            "2019-09-29\n",
            "2019-10-06\n",
            "2019-10-13\n",
            "2019-10-20\n",
            "2019-10-27\n",
            "2019-11-03\n",
            "2019-11-10\n",
            "2019-11-17\n",
            "2019-11-24\n",
            "2019-12-01\n",
            "2019-12-08\n",
            "2019-12-15\n",
            "2019-12-22\n",
            "2019-12-29\n"
          ]
        }
      ]
    }
  ]
}