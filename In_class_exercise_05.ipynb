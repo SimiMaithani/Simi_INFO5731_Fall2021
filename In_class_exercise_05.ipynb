{
  "nbformat": 4,
  "nbformat_minor": 0,
  "metadata": {
    "kernelspec": {
      "display_name": "Python 3",
      "language": "python",
      "name": "python3"
    },
    "language_info": {
      "codemirror_mode": {
        "name": "ipython",
        "version": 3
      },
      "file_extension": ".py",
      "mimetype": "text/x-python",
      "name": "python",
      "nbconvert_exporter": "python",
      "pygments_lexer": "ipython3",
      "version": "3.8.5"
    },
    "colab": {
      "name": "In_class_exercise_05.ipynb",
      "provenance": [],
      "collapsed_sections": [],
      "include_colab_link": true
    }
  },
  "cells": [
    {
      "cell_type": "markdown",
      "metadata": {
        "id": "view-in-github",
        "colab_type": "text"
      },
      "source": [
        "<a href=\"https://colab.research.google.com/github/SimiMaithani/Simi_INFO5731_Fall2021/blob/main/In_class_exercise_05.ipynb\" target=\"_parent\"><img src=\"https://colab.research.google.com/assets/colab-badge.svg\" alt=\"Open In Colab\"/></a>"
      ]
    },
    {
      "cell_type": "markdown",
      "metadata": {
        "id": "3NNzamtoPvMo"
      },
      "source": [
        "# **The fifth in-class-exercise (40 points in total, 11/11/2021)**"
      ]
    },
    {
      "cell_type": "markdown",
      "metadata": {
        "id": "FfDQpGAQPvMs"
      },
      "source": [
        "(20 points) The purpose of the question is to practice different machine learning algorithms for text classification as well as the performance evaluation. In addition, you are requried to conduct *10 fold cross validation (https://scikit-learn.org/stable/modules/cross_validation.html)* in the training. \n",
        "\n",
        "The dataset can be download from here: https://github.com/unt-iialab/info5731_spring2021/blob/main/class_exercises/exercise09_datacollection.zip. The dataset contains two files train data and test data for sentiment analysis in IMDB review, it has two categories: 1 represents positive and 0 represents negative. You need to split the training data into training and validate data (80% for training and 20% for validation, https://towardsdatascience.com/train-test-split-and-cross-validation-in-python-80b61beca4b6) and perform 10 fold cross validation while training the classifier. The final trained model was final evaluated on the test data. \n",
        "\n",
        "Algorithms:\n",
        "\n",
        "(1) MultinominalNB\n",
        "\n",
        "(2) SVM \n",
        "\n",
        "(3) KNN \n",
        "\n",
        "(4) Decision tree\n",
        "\n",
        "(5) Random Forest\n",
        "\n",
        "(6) XGBoost\n",
        "\n",
        "Evaluation measurement:\n",
        "\n",
        "(1) Accuracy\n",
        "\n",
        "(2) Recall\n",
        "\n",
        "(3) Precison \n",
        "\n",
        "(4) F-1 score"
      ]
    },
    {
      "cell_type": "code",
      "metadata": {
        "id": "Ykj2ar5kPvMu"
      },
      "source": [
        "# Write your code here\n",
        "import pandas as pd\n",
        "from sklearn import datasets, linear_model\n",
        "from sklearn.model_selection import train_test_split\n",
        "from matplotlib import pyplot as plt\n"
      ],
      "execution_count": null,
      "outputs": []
    },
    {
      "cell_type": "code",
      "metadata": {
        "colab": {
          "base_uri": "https://localhost:8080/",
          "height": 419
        },
        "id": "jTpJsihNxdch",
        "outputId": "dac2bb19-cbbf-41c2-bdea-b4ed726048bd"
      },
      "source": [
        "# Importing the training and test data and saving in dataframes\n",
        "train_df = pd.read_csv('train.csv', engine='python')\n",
        "train_df"
      ],
      "execution_count": null,
      "outputs": [
        {
          "output_type": "execute_result",
          "data": {
            "text/html": [
              "<div>\n",
              "<style scoped>\n",
              "    .dataframe tbody tr th:only-of-type {\n",
              "        vertical-align: middle;\n",
              "    }\n",
              "\n",
              "    .dataframe tbody tr th {\n",
              "        vertical-align: top;\n",
              "    }\n",
              "\n",
              "    .dataframe thead th {\n",
              "        text-align: right;\n",
              "    }\n",
              "</style>\n",
              "<table border=\"1\" class=\"dataframe\">\n",
              "  <thead>\n",
              "    <tr style=\"text-align: right;\">\n",
              "      <th></th>\n",
              "      <th>sentiment</th>\n",
              "      <th>imdb_reviews</th>\n",
              "    </tr>\n",
              "  </thead>\n",
              "  <tbody>\n",
              "    <tr>\n",
              "      <th>0</th>\n",
              "      <td>1</td>\n",
              "      <td>a stirring , funny and finally transporting re...</td>\n",
              "    </tr>\n",
              "    <tr>\n",
              "      <th>1</th>\n",
              "      <td>0</td>\n",
              "      <td>apparently reassembled from the cutting-room f...</td>\n",
              "    </tr>\n",
              "    <tr>\n",
              "      <th>2</th>\n",
              "      <td>0</td>\n",
              "      <td>they presume their audience wo n't sit still f...</td>\n",
              "    </tr>\n",
              "    <tr>\n",
              "      <th>3</th>\n",
              "      <td>1</td>\n",
              "      <td>this is a visually stunning rumination on love...</td>\n",
              "    </tr>\n",
              "    <tr>\n",
              "      <th>4</th>\n",
              "      <td>1</td>\n",
              "      <td>jonathan parker 's bartleby should have been t...</td>\n",
              "    </tr>\n",
              "    <tr>\n",
              "      <th>...</th>\n",
              "      <td>...</td>\n",
              "      <td>...</td>\n",
              "    </tr>\n",
              "    <tr>\n",
              "      <th>6915</th>\n",
              "      <td>1</td>\n",
              "      <td>painful , horrifying and oppressively tragic ,...</td>\n",
              "    </tr>\n",
              "    <tr>\n",
              "      <th>6916</th>\n",
              "      <td>0</td>\n",
              "      <td>take care is nicely performed by a quintet of ...</td>\n",
              "    </tr>\n",
              "    <tr>\n",
              "      <th>6917</th>\n",
              "      <td>0</td>\n",
              "      <td>the script covers huge , heavy topics in a bla...</td>\n",
              "    </tr>\n",
              "    <tr>\n",
              "      <th>6918</th>\n",
              "      <td>0</td>\n",
              "      <td>a seriously bad film with seriously warped log...</td>\n",
              "    </tr>\n",
              "    <tr>\n",
              "      <th>6919</th>\n",
              "      <td>1</td>\n",
              "      <td>a deliciously nonsensical comedy about a city ...</td>\n",
              "    </tr>\n",
              "  </tbody>\n",
              "</table>\n",
              "<p>6920 rows × 2 columns</p>\n",
              "</div>"
            ],
            "text/plain": [
              "      sentiment                                       imdb_reviews\n",
              "0             1  a stirring , funny and finally transporting re...\n",
              "1             0  apparently reassembled from the cutting-room f...\n",
              "2             0  they presume their audience wo n't sit still f...\n",
              "3             1  this is a visually stunning rumination on love...\n",
              "4             1  jonathan parker 's bartleby should have been t...\n",
              "...         ...                                                ...\n",
              "6915          1  painful , horrifying and oppressively tragic ,...\n",
              "6916          0  take care is nicely performed by a quintet of ...\n",
              "6917          0  the script covers huge , heavy topics in a bla...\n",
              "6918          0  a seriously bad film with seriously warped log...\n",
              "6919          1  a deliciously nonsensical comedy about a city ...\n",
              "\n",
              "[6920 rows x 2 columns]"
            ]
          },
          "metadata": {},
          "execution_count": 2
        }
      ]
    },
    {
      "cell_type": "code",
      "metadata": {
        "colab": {
          "base_uri": "https://localhost:8080/",
          "height": 419
        },
        "id": "BKDTmi87x7uL",
        "outputId": "a0158534-a3b9-4f77-8b3c-defeec2ba47d"
      },
      "source": [
        "test_df = pd.read_csv('test.csv', engine='python')\n",
        "test_df"
      ],
      "execution_count": null,
      "outputs": [
        {
          "output_type": "execute_result",
          "data": {
            "text/html": [
              "<div>\n",
              "<style scoped>\n",
              "    .dataframe tbody tr th:only-of-type {\n",
              "        vertical-align: middle;\n",
              "    }\n",
              "\n",
              "    .dataframe tbody tr th {\n",
              "        vertical-align: top;\n",
              "    }\n",
              "\n",
              "    .dataframe thead th {\n",
              "        text-align: right;\n",
              "    }\n",
              "</style>\n",
              "<table border=\"1\" class=\"dataframe\">\n",
              "  <thead>\n",
              "    <tr style=\"text-align: right;\">\n",
              "      <th></th>\n",
              "      <th>sentiment</th>\n",
              "      <th>imdb_testreviews</th>\n",
              "    </tr>\n",
              "  </thead>\n",
              "  <tbody>\n",
              "    <tr>\n",
              "      <th>0</th>\n",
              "      <td>0</td>\n",
              "      <td>no movement , no yuks , not much of anything .</td>\n",
              "    </tr>\n",
              "    <tr>\n",
              "      <th>1</th>\n",
              "      <td>0</td>\n",
              "      <td>a gob of drivel so sickly sweet , even the eag...</td>\n",
              "    </tr>\n",
              "    <tr>\n",
              "      <th>2</th>\n",
              "      <td>0</td>\n",
              "      <td>gangs of new york is an unapologetic mess , wh...</td>\n",
              "    </tr>\n",
              "    <tr>\n",
              "      <th>3</th>\n",
              "      <td>0</td>\n",
              "      <td>we never really feel involved with the story ,...</td>\n",
              "    </tr>\n",
              "    <tr>\n",
              "      <th>4</th>\n",
              "      <td>1</td>\n",
              "      <td>this is one of polanski 's best films .</td>\n",
              "    </tr>\n",
              "    <tr>\n",
              "      <th>...</th>\n",
              "      <td>...</td>\n",
              "      <td>...</td>\n",
              "    </tr>\n",
              "    <tr>\n",
              "      <th>1816</th>\n",
              "      <td>0</td>\n",
              "      <td>an often-deadly boring , strange reading of a ...</td>\n",
              "    </tr>\n",
              "    <tr>\n",
              "      <th>1817</th>\n",
              "      <td>0</td>\n",
              "      <td>the problem with concept films is that if the ...</td>\n",
              "    </tr>\n",
              "    <tr>\n",
              "      <th>1818</th>\n",
              "      <td>0</td>\n",
              "      <td>safe conduct , however ambitious and well-inte...</td>\n",
              "    </tr>\n",
              "    <tr>\n",
              "      <th>1819</th>\n",
              "      <td>0</td>\n",
              "      <td>a film made with as little wit , interest , an...</td>\n",
              "    </tr>\n",
              "    <tr>\n",
              "      <th>1820</th>\n",
              "      <td>0</td>\n",
              "      <td>but here 's the real damn : it is n't funny , ...</td>\n",
              "    </tr>\n",
              "  </tbody>\n",
              "</table>\n",
              "<p>1821 rows × 2 columns</p>\n",
              "</div>"
            ],
            "text/plain": [
              "      sentiment                                   imdb_testreviews\n",
              "0             0     no movement , no yuks , not much of anything .\n",
              "1             0  a gob of drivel so sickly sweet , even the eag...\n",
              "2             0  gangs of new york is an unapologetic mess , wh...\n",
              "3             0  we never really feel involved with the story ,...\n",
              "4             1            this is one of polanski 's best films .\n",
              "...         ...                                                ...\n",
              "1816          0  an often-deadly boring , strange reading of a ...\n",
              "1817          0  the problem with concept films is that if the ...\n",
              "1818          0  safe conduct , however ambitious and well-inte...\n",
              "1819          0  a film made with as little wit , interest , an...\n",
              "1820          0  but here 's the real damn : it is n't funny , ...\n",
              "\n",
              "[1821 rows x 2 columns]"
            ]
          },
          "metadata": {},
          "execution_count": 3
        }
      ]
    },
    {
      "cell_type": "code",
      "metadata": {
        "colab": {
          "base_uri": "https://localhost:8080/"
        },
        "id": "PED-S-dZ0U2y",
        "outputId": "e4981c45-e3bd-49a8-c6d1-4e8917f4f61b"
      },
      "source": [
        "import nltk\n",
        "import re\n",
        "import string\n",
        "nltk.download('stopwords')\n",
        "nltk.download('wordnet')\n",
        "stopword=nltk.corpus.stopwords.words('english')\n",
        "from nltk.stem import WordNetLemmatizer\n",
        "wl= WordNetLemmatizer()\n",
        "\n",
        "#Performing all data cleaning inside one function\n",
        "def reviews_clean(imdb_reviews):\n",
        "    imdb_reviews =\"\".join([word.lower() for word in imdb_reviews if word not in string.punctuation])\n",
        "    imdb_reviews= re.sub(\"^\\d+\\s|\\s\\d+\\s|\\s\\d+$\", \" \", imdb_reviews)\n",
        "    tokens= re.split('\\W+',imdb_reviews)\n",
        "    imdb_reviews= [wl.lemmatize(word) for word in tokens if word not in stopword]\n",
        "    return imdb_reviews"
      ],
      "execution_count": null,
      "outputs": [
        {
          "output_type": "stream",
          "name": "stdout",
          "text": [
            "[nltk_data] Downloading package stopwords to /root/nltk_data...\n",
            "[nltk_data]   Unzipping corpora/stopwords.zip.\n",
            "[nltk_data] Downloading package wordnet to /root/nltk_data...\n",
            "[nltk_data]   Unzipping corpora/wordnet.zip.\n"
          ]
        }
      ]
    },
    {
      "cell_type": "code",
      "metadata": {
        "colab": {
          "base_uri": "https://localhost:8080/"
        },
        "id": "6LsoP1GN6GcR",
        "outputId": "5eb01676-1982-4fae-f5be-25c7b2273185"
      },
      "source": [
        "# Transforming the data using vectors \n",
        "from sklearn.feature_extraction.text import TfidfVectorizer\n",
        "tfidf_vect = TfidfVectorizer(analyzer = reviews_clean)\n",
        "X_tfidf = tfidf_vect.fit_transform(train_df['imdb_reviews'])\n",
        "\n",
        "# Saving the tf-idf values in a dataframe\n",
        "X_tfidf_df=pd.DataFrame(X_tfidf.toarray())\n",
        "X_tfidf_df.columns=tfidf_vect.get_feature_names()\n",
        "print(X_tfidf.shape)"
      ],
      "execution_count": null,
      "outputs": [
        {
          "output_type": "stream",
          "name": "stdout",
          "text": [
            "(6920, 13162)\n"
          ]
        }
      ]
    },
    {
      "cell_type": "code",
      "metadata": {
        "colab": {
          "base_uri": "https://localhost:8080/"
        },
        "id": "9WihmVfJEK6a",
        "outputId": "2dcf564b-cd77-416c-9833-2d7a57271579"
      },
      "source": [
        "# Transforming the test data values using vectorizer\n",
        "X_test_tfidf = tfidf_vect.transform(test_df['imdb_testreviews'])\n",
        "print(X_test_tfidf.shape)"
      ],
      "execution_count": null,
      "outputs": [
        {
          "output_type": "stream",
          "name": "stdout",
          "text": [
            "(1821, 13162)\n"
          ]
        }
      ]
    },
    {
      "cell_type": "code",
      "metadata": {
        "colab": {
          "base_uri": "https://localhost:8080/"
        },
        "id": "cSmxSLdNFHu2",
        "outputId": "12d033f3-f7d0-4bb4-f8f1-20a5538f3bc7"
      },
      "source": [
        "# Algorithms:\n",
        "import pandas as pd\n",
        "from sklearn.metrics import accuracy_score, recall_score, precision_score, f1_score\n",
        "from sklearn.model_selection import train_test_split, cross_validate, StratifiedKFold\n",
        "\n",
        "# (1) MultinominalNB\n",
        "\n",
        "from sklearn.naive_bayes import MultinomialNB\n",
        "from sklearn.metrics import accuracy_score\n",
        "from sklearn.metrics import classification_report\n",
        "\n",
        "mnb = MultinomialNB()\n",
        "\n",
        "# Defining the train data: 80% train and 20% test\n",
        "x_train, x_test, y_train, y_test = train_test_split(X_tfidf_df, train_df['sentiment'].values,test_size=0.2, random_state=42)\n",
        "\n",
        "# Fitting the model\n",
        "model_mnb = mnb.fit(x_train,y_train)\n",
        "y_pred_mnb = model_mnb.predict(x_test)\n",
        "print('Accuracy %s \\n' % accuracy_score(y_pred_mnb,y_test))\n",
        "print(classification_report(y_test,y_pred_mnb))\n",
        "\n",
        "# Cross validation score\n",
        "from sklearn.model_selection import cross_val_score\n",
        "scores = cross_val_score(mnb, x_test, y_test, cv=10)\n",
        "print(\"MultinominalNB(cross-validation score):\",scores.mean())\n"
      ],
      "execution_count": null,
      "outputs": [
        {
          "output_type": "stream",
          "name": "stdout",
          "text": [
            "Accuracy 0.7984104046242775 \n",
            "\n",
            "              precision    recall  f1-score   support\n",
            "\n",
            "           0       0.85      0.71      0.77       671\n",
            "           1       0.76      0.88      0.82       713\n",
            "\n",
            "    accuracy                           0.80      1384\n",
            "   macro avg       0.81      0.80      0.80      1384\n",
            "weighted avg       0.81      0.80      0.80      1384\n",
            "\n",
            "MultinominalNB(cross-validation score): 0.7095141278281722\n"
          ]
        }
      ]
    },
    {
      "cell_type": "code",
      "metadata": {
        "colab": {
          "base_uri": "https://localhost:8080/"
        },
        "id": "bTpO47OPGiE-",
        "outputId": "8032196f-b259-477a-8cba-6c73800a9d70"
      },
      "source": [
        "# (2) SVM\n",
        "from sklearn.svm import LinearSVC\n",
        "\n",
        "svm = LinearSVC()\n",
        "model_svm = svm.fit(x_train,y_train)\n",
        "y_pred_svm = model_svm.predict(x_test)\n",
        "print('Accuracy %s \\n' % accuracy_score(y_pred_svm,y_test))\n",
        "print(classification_report(y_test,y_pred_svm))\n",
        "\n",
        "# Cross-validation score\n",
        "from sklearn.model_selection import cross_val_score\n",
        "scores = cross_val_score(svm, x_test, y_test, cv=10)\n",
        "print(\"SVM(cross-validation score):\",scores.mean())"
      ],
      "execution_count": null,
      "outputs": [
        {
          "output_type": "stream",
          "name": "stdout",
          "text": [
            "Accuracy 0.7976878612716763 \n",
            "\n",
            "              precision    recall  f1-score   support\n",
            "\n",
            "           0       0.82      0.75      0.78       671\n",
            "           1       0.78      0.84      0.81       713\n",
            "\n",
            "    accuracy                           0.80      1384\n",
            "   macro avg       0.80      0.80      0.80      1384\n",
            "weighted avg       0.80      0.80      0.80      1384\n",
            "\n",
            "SVM(cross-validation score): 0.7124178917735376\n"
          ]
        }
      ]
    },
    {
      "cell_type": "code",
      "metadata": {
        "colab": {
          "base_uri": "https://localhost:8080/"
        },
        "id": "cjcFcB4GTqEW",
        "outputId": "a40dc4e2-b2f9-41f1-ff6d-4ac6c3814dbb"
      },
      "source": [
        "# (3) KNN\n",
        "from sklearn.neighbors import KNeighborsClassifier\n",
        "\n",
        "knn = KNeighborsClassifier(n_neighbors=5,n_jobs=-1)\n",
        "model_knn = knn.fit(x_train,y_train)\n",
        "y_pred_knn = model_knn.predict(x_test)\n",
        "print('Accuracy %s \\n' % accuracy_score(y_pred_knn,y_test))\n",
        "print(classification_report(y_test,y_pred_knn))\n",
        "\n",
        "# Cross-validation score\n",
        "from sklearn.model_selection import cross_val_score\n",
        "scores = cross_val_score(knn, x_test, y_test, cv=10)\n",
        "print(\"KNN(cross-validation score):\",scores.mean())"
      ],
      "execution_count": null,
      "outputs": [
        {
          "output_type": "stream",
          "name": "stdout",
          "text": [
            "Accuracy 0.7333815028901735 \n",
            "\n",
            "              precision    recall  f1-score   support\n",
            "\n",
            "           0       0.74      0.70      0.72       671\n",
            "           1       0.73      0.76      0.75       713\n",
            "\n",
            "    accuracy                           0.73      1384\n",
            "   macro avg       0.73      0.73      0.73      1384\n",
            "weighted avg       0.73      0.73      0.73      1384\n",
            "\n",
            "KNN(cross-validation score): 0.6625638619539151\n"
          ]
        }
      ]
    },
    {
      "cell_type": "code",
      "metadata": {
        "colab": {
          "base_uri": "https://localhost:8080/"
        },
        "id": "EuRIR2n7UWMt",
        "outputId": "fc4db4fa-90c4-4e8d-922f-31f6900b115b"
      },
      "source": [
        "# (4) Decision Tree\n",
        "\n",
        "from sklearn.tree import DecisionTreeClassifier\n",
        "\n",
        "dt = DecisionTreeClassifier()\n",
        "model_dt = dt.fit(x_train,y_train)\n",
        "y_pred_dt = model_dt.predict(x_test)\n",
        "print('Accuracy %s \\n' % accuracy_score(y_pred_dt,y_test))\n",
        "print(classification_report(y_test,y_pred_dt))\n",
        "\n",
        "# Cross-validation score\n",
        "scores = cross_val_score(dt, x_test, y_test, cv=10)\n",
        "print(\"Decision tree(cross-validation score):\",scores.mean())\n"
      ],
      "execution_count": null,
      "outputs": [
        {
          "output_type": "stream",
          "name": "stdout",
          "text": [
            "Accuracy 0.6394508670520231 \n",
            "\n",
            "              precision    recall  f1-score   support\n",
            "\n",
            "           0       0.64      0.58      0.61       671\n",
            "           1       0.64      0.70      0.67       713\n",
            "\n",
            "    accuracy                           0.64      1384\n",
            "   macro avg       0.64      0.64      0.64      1384\n",
            "weighted avg       0.64      0.64      0.64      1384\n",
            "\n",
            "Decision tree(cross-validation score): 0.5938901053070587\n"
          ]
        }
      ]
    },
    {
      "cell_type": "code",
      "metadata": {
        "colab": {
          "base_uri": "https://localhost:8080/"
        },
        "id": "_RX85zw1U2bn",
        "outputId": "1212ea37-7481-46ca-ea5a-92fc14d7c97c"
      },
      "source": [
        "# (5) Random Forest\n",
        "from sklearn.ensemble import RandomForestClassifier\n",
        "rf = RandomForestClassifier()\n",
        "\n",
        "model_rf = rf.fit(x_train,y_train)\n",
        "y_pred_rf = model_rf.predict(x_test)\n",
        "print('Accuracy %s \\n' % accuracy_score(y_pred_rf,y_test))\n",
        "print(classification_report(y_test,y_pred_rf))\n",
        "\n",
        "#Cross-validation score\n",
        "scores = cross_val_score(rf, x_test, y_test, cv=10)\n",
        "print(\"Random forest(cross-validation score):\",scores.mean())"
      ],
      "execution_count": null,
      "outputs": [
        {
          "output_type": "stream",
          "name": "stdout",
          "text": [
            "Accuracy 0.7283236994219653 \n",
            "\n",
            "              precision    recall  f1-score   support\n",
            "\n",
            "           0       0.76      0.65      0.70       671\n",
            "           1       0.71      0.81      0.75       713\n",
            "\n",
            "    accuracy                           0.73      1384\n",
            "   macro avg       0.73      0.73      0.73      1384\n",
            "weighted avg       0.73      0.73      0.73      1384\n",
            "\n",
            "Random forest(cross-validation score): 0.6697581065582316\n"
          ]
        }
      ]
    },
    {
      "cell_type": "code",
      "metadata": {
        "colab": {
          "base_uri": "https://localhost:8080/"
        },
        "id": "74B4pju-U4nZ",
        "outputId": "b675836b-cb2f-40b6-f44f-2e7f89d1e0bf"
      },
      "source": [
        "# (6) XGBoost\n",
        "from xgboost import XGBClassifier\n",
        "xgb = XGBClassifier()\n",
        "model_xgb = xgb.fit(x_train,y_train)\n",
        "y_pred_xgb = model_xgb.predict(x_test)\n",
        "print('Accuracy %s \\n' % accuracy_score(y_pred_xgb,y_test))\n",
        "print(classification_report(y_test,y_pred_xgb))\n",
        "\n",
        "#Cross-validation score\n",
        "scores = cross_val_score(xgb, x_test, y_test, cv=10)\n",
        "print(\"XGBoost(Cross-validation score):\",scores.mean())"
      ],
      "execution_count": null,
      "outputs": [
        {
          "output_type": "stream",
          "name": "stdout",
          "text": [
            "Accuracy 0.6488439306358381 \n",
            "\n",
            "              precision    recall  f1-score   support\n",
            "\n",
            "           0       0.78      0.38      0.51       671\n",
            "           1       0.61      0.90      0.73       713\n",
            "\n",
            "    accuracy                           0.65      1384\n",
            "   macro avg       0.70      0.64      0.62      1384\n",
            "weighted avg       0.69      0.65      0.62      1384\n",
            "\n",
            "XGBoost(Cross-validation score): 0.6184600145970182\n"
          ]
        }
      ]
    },
    {
      "cell_type": "markdown",
      "metadata": {
        "id": "yfC7ZyZHPvMw"
      },
      "source": [
        "(20 points) The purpose of the question is to practice different machine learning algorithms for text clustering\n",
        "Please downlad the dataset by using the following link.  https://www.kaggle.com/PromptCloudHQ/amazon-reviews-unlocked-mobile-phones\n",
        "(You can also use different text data which you want)\n",
        "\n",
        "Apply the listed clustering methods to the dataset:\n",
        "\n",
        "K means, \n",
        "DBSCAN,\n",
        "Hierarchical clustering. \n",
        "\n",
        "You can refer to of the codes from  the follwing link below. \n",
        "https://www.kaggle.com/karthik3890/text-clustering "
      ]
    },
    {
      "cell_type": "code",
      "metadata": {
        "colab": {
          "base_uri": "https://localhost:8080/",
          "height": 306
        },
        "id": "id1hVCUYPvMx",
        "outputId": "e8a93626-ca79-4b83-b3ae-531fbacc3706"
      },
      "source": [
        "#Write your code here.\n",
        "import pandas as pd\n",
        "df = pd.read_csv(\"Amazon_Unlocked_Mobile2.csv\", engine = 'python')\n",
        "df.head()"
      ],
      "execution_count": 3,
      "outputs": [
        {
          "output_type": "execute_result",
          "data": {
            "text/html": [
              "<div>\n",
              "<style scoped>\n",
              "    .dataframe tbody tr th:only-of-type {\n",
              "        vertical-align: middle;\n",
              "    }\n",
              "\n",
              "    .dataframe tbody tr th {\n",
              "        vertical-align: top;\n",
              "    }\n",
              "\n",
              "    .dataframe thead th {\n",
              "        text-align: right;\n",
              "    }\n",
              "</style>\n",
              "<table border=\"1\" class=\"dataframe\">\n",
              "  <thead>\n",
              "    <tr style=\"text-align: right;\">\n",
              "      <th></th>\n",
              "      <th>Product Name</th>\n",
              "      <th>Brand Name</th>\n",
              "      <th>Price</th>\n",
              "      <th>Rating</th>\n",
              "      <th>Reviews</th>\n",
              "      <th>Review Votes</th>\n",
              "    </tr>\n",
              "  </thead>\n",
              "  <tbody>\n",
              "    <tr>\n",
              "      <th>0</th>\n",
              "      <td>\"CLEAR CLEAN ESN\" Sprint EPIC 4G Galaxy SPH-D7...</td>\n",
              "      <td>Samsung</td>\n",
              "      <td>199.99</td>\n",
              "      <td>5</td>\n",
              "      <td>I feel so LUCKY to have found this used (phone...</td>\n",
              "      <td>1.0</td>\n",
              "    </tr>\n",
              "    <tr>\n",
              "      <th>1</th>\n",
              "      <td>\"CLEAR CLEAN ESN\" Sprint EPIC 4G Galaxy SPH-D7...</td>\n",
              "      <td>Samsung</td>\n",
              "      <td>199.99</td>\n",
              "      <td>4</td>\n",
              "      <td>nice phone, nice up grade from my pantach revu...</td>\n",
              "      <td>0.0</td>\n",
              "    </tr>\n",
              "    <tr>\n",
              "      <th>2</th>\n",
              "      <td>\"CLEAR CLEAN ESN\" Sprint EPIC 4G Galaxy SPH-D7...</td>\n",
              "      <td>Samsung</td>\n",
              "      <td>199.99</td>\n",
              "      <td>5</td>\n",
              "      <td>Very pleased</td>\n",
              "      <td>0.0</td>\n",
              "    </tr>\n",
              "    <tr>\n",
              "      <th>3</th>\n",
              "      <td>\"CLEAR CLEAN ESN\" Sprint EPIC 4G Galaxy SPH-D7...</td>\n",
              "      <td>Samsung</td>\n",
              "      <td>199.99</td>\n",
              "      <td>4</td>\n",
              "      <td>It works good but it goes slow sometimes but i...</td>\n",
              "      <td>0.0</td>\n",
              "    </tr>\n",
              "    <tr>\n",
              "      <th>4</th>\n",
              "      <td>\"CLEAR CLEAN ESN\" Sprint EPIC 4G Galaxy SPH-D7...</td>\n",
              "      <td>Samsung</td>\n",
              "      <td>199.99</td>\n",
              "      <td>4</td>\n",
              "      <td>Great phone to replace my lost phone. The only...</td>\n",
              "      <td>0.0</td>\n",
              "    </tr>\n",
              "  </tbody>\n",
              "</table>\n",
              "</div>"
            ],
            "text/plain": [
              "                                        Product Name  ... Review Votes\n",
              "0  \"CLEAR CLEAN ESN\" Sprint EPIC 4G Galaxy SPH-D7...  ...          1.0\n",
              "1  \"CLEAR CLEAN ESN\" Sprint EPIC 4G Galaxy SPH-D7...  ...          0.0\n",
              "2  \"CLEAR CLEAN ESN\" Sprint EPIC 4G Galaxy SPH-D7...  ...          0.0\n",
              "3  \"CLEAR CLEAN ESN\" Sprint EPIC 4G Galaxy SPH-D7...  ...          0.0\n",
              "4  \"CLEAR CLEAN ESN\" Sprint EPIC 4G Galaxy SPH-D7...  ...          0.0\n",
              "\n",
              "[5 rows x 6 columns]"
            ]
          },
          "metadata": {},
          "execution_count": 3
        }
      ]
    },
    {
      "cell_type": "code",
      "metadata": {
        "colab": {
          "base_uri": "https://localhost:8080/"
        },
        "id": "W1qUrym7cj7F",
        "outputId": "6f01568d-3418-4f8b-b607-6b0a2003cc4b"
      },
      "source": [
        "# Data-cleaning\n",
        "#lower case\n",
        "df['Reviews'] = df['Reviews'].apply(lambda x: \" \".join(x.lower() for x in str(x).split()))\n",
        "#Removing punctuation\n",
        "df['Reviews'] = df['Reviews'].str.replace('[^\\w\\s]','')\n",
        "#Removing stopwords\n",
        "from nltk.corpus import stopwords\n",
        "stop = stopwords.words('english')\n",
        "df['Reviews'] = df['Reviews'].apply(lambda x: \" \".join(x for x in x.split() if x not in stop))\n",
        "#Lemmatize\n",
        "from textblob import Word\n",
        "import nltk\n",
        "nltk.download('wordnet')\n",
        "df['Reviews'] = df['Reviews'].apply(lambda x: \" \".join([Word(word).lemmatize() for word in x.split()]))\n",
        "df['Reviews'].head()"
      ],
      "execution_count": 4,
      "outputs": [
        {
          "output_type": "stream",
          "name": "stdout",
          "text": [
            "[nltk_data] Downloading package wordnet to /root/nltk_data...\n",
            "[nltk_data]   Package wordnet is already up-to-date!\n"
          ]
        },
        {
          "output_type": "execute_result",
          "data": {
            "text/plain": [
              "0    feel lucky found used phone u used hard phone ...\n",
              "1    nice phone nice grade pantach revue clean set ...\n",
              "2                                              pleased\n",
              "3          work good go slow sometimes good phone love\n",
              "4    great phone replace lost phone thing volume bu...\n",
              "Name: Reviews, dtype: object"
            ]
          },
          "metadata": {},
          "execution_count": 4
        }
      ]
    },
    {
      "cell_type": "code",
      "metadata": {
        "colab": {
          "base_uri": "https://localhost:8080/"
        },
        "id": "DWO6tEb6i7Er",
        "outputId": "e236ab51-2ded-4282-d77f-aff032e7e0f6"
      },
      "source": [
        "df['Reviews'].head()"
      ],
      "execution_count": 5,
      "outputs": [
        {
          "output_type": "execute_result",
          "data": {
            "text/plain": [
              "0    feel lucky found used phone u used hard phone ...\n",
              "1    nice phone nice grade pantach revue clean set ...\n",
              "2                                              pleased\n",
              "3          work good go slow sometimes good phone love\n",
              "4    great phone replace lost phone thing volume bu...\n",
              "Name: Reviews, dtype: object"
            ]
          },
          "metadata": {},
          "execution_count": 5
        }
      ]
    },
    {
      "cell_type": "code",
      "metadata": {
        "id": "BhtM7EYAjLgE"
      },
      "source": [
        "# TF-IDF \n",
        "from sklearn.feature_extraction.text import TfidfVectorizer\n",
        "tfidf_vect = TfidfVectorizer()\n",
        "tfidf_vects = tfidf_vect.fit_transform(df['Reviews'].values.astype('U'))\n",
        "names= tfidf_vect.get_feature_names()"
      ],
      "execution_count": 6,
      "outputs": []
    },
    {
      "cell_type": "code",
      "metadata": {
        "id": "mZvhW7hkjyqR",
        "colab": {
          "base_uri": "https://localhost:8080/"
        },
        "outputId": "6897c465-0d97-410c-91a4-4d47ee749b54"
      },
      "source": [
        "# k-means clustering\n",
        "from sklearn.cluster import KMeans\n",
        "model = KMeans(n_clusters = 8 ,init='k-means++', n_jobs = -1,max_iter=10000, random_state=50)\n",
        "model.fit(tfidf_vects)\n",
        "from collections import Counter\n",
        "Counter(model.labels_)"
      ],
      "execution_count": 7,
      "outputs": [
        {
          "output_type": "execute_result",
          "data": {
            "text/plain": [
              "Counter({0: 14, 1: 75, 2: 33, 3: 44, 4: 47, 5: 240, 6: 534, 7: 12})"
            ]
          },
          "metadata": {},
          "execution_count": 7
        }
      ]
    },
    {
      "cell_type": "code",
      "metadata": {
        "id": "qgm6AR7flWTu",
        "colab": {
          "base_uri": "https://localhost:8080/"
        },
        "outputId": "69e55821-db35-4b22-ff32-1954490948c0"
      },
      "source": [
        "# cluster-center\n",
        "labels = model.labels_\n",
        "cluster_center=model.cluster_centers_\n",
        "cluster_center"
      ],
      "execution_count": 8,
      "outputs": [
        {
          "output_type": "execute_result",
          "data": {
            "text/plain": [
              "array([[0.00000000e+00, 0.00000000e+00, 0.00000000e+00, ...,\n",
              "        0.00000000e+00, 0.00000000e+00, 0.00000000e+00],\n",
              "       [0.00000000e+00, 0.00000000e+00, 0.00000000e+00, ...,\n",
              "        0.00000000e+00, 0.00000000e+00, 0.00000000e+00],\n",
              "       [0.00000000e+00, 0.00000000e+00, 0.00000000e+00, ...,\n",
              "        0.00000000e+00, 0.00000000e+00, 0.00000000e+00],\n",
              "       ...,\n",
              "       [0.00000000e+00, 1.25515792e-03, 1.27035052e-03, ...,\n",
              "        1.31505175e-03, 0.00000000e+00, 0.00000000e+00],\n",
              "       [7.02527553e-04, 9.99011132e-05, 5.34308862e-03, ...,\n",
              "        3.03682998e-04, 2.48756423e-04, 3.16791660e-04],\n",
              "       [0.00000000e+00, 0.00000000e+00, 0.00000000e+00, ...,\n",
              "        0.00000000e+00, 0.00000000e+00, 0.00000000e+00]])"
            ]
          },
          "metadata": {},
          "execution_count": 8
        }
      ]
    },
    {
      "cell_type": "code",
      "metadata": {
        "id": "Q4q1YcNxl0X0",
        "colab": {
          "base_uri": "https://localhost:8080/"
        },
        "outputId": "66dd7db4-90f0-47de-b2d5-14576be66686"
      },
      "source": [
        "from sklearn.feature_extraction.text import CountVectorizer\n",
        "count_vect = CountVectorizer()\n",
        "bow = count_vect.fit_transform(df['Reviews'].values)\n",
        "bow.shape"
      ],
      "execution_count": 9,
      "outputs": [
        {
          "output_type": "execute_result",
          "data": {
            "text/plain": [
              "(999, 3472)"
            ]
          },
          "metadata": {},
          "execution_count": 9
        }
      ]
    },
    {
      "cell_type": "code",
      "metadata": {
        "id": "frl0kG_gmHy4",
        "colab": {
          "base_uri": "https://localhost:8080/"
        },
        "outputId": "d690ce8d-8e37-4448-b5ea-08ae13d9fd06"
      },
      "source": [
        "# Top words in each cluster\n",
        "topn_features = 8\n",
        "centroids = model.cluster_centers_.argsort()[:, ::-1]\n",
        "for cluster_num in range(7):\n",
        "    key_features = [names[i] for i in centroids[cluster_num, :topn_features]]\n",
        "    print('Top words in CLUSTER  '+ str(cluster_num+1) + \":\" + str(key_features))"
      ],
      "execution_count": 10,
      "outputs": [
        {
          "output_type": "stream",
          "name": "stdout",
          "text": [
            "Top words in CLUSTER  1:['excelent', 'thank', 'seller', 'product', 'famous', 'fastest', 'faster', 'fast']\n",
            "Top words in CLUSTER  2:['great', 'phone', 'work', 'easy', 'love', 'lousy', 'use', 'didnt']\n",
            "Top words in CLUSTER  3:['excelente', 'telefono', 'producto', '发哥版', 'fancy', 'fasti', 'fastest', 'faster']\n",
            "Top words in CLUSTER  4:['excellent', 'product', 'recommend', 'condition', 'arrived', 'thank', 'seller', 'much']\n",
            "Top words in CLUSTER  5:['good', 'phone', 'price', 'mobile', 'cell', 'product', 'work', 'thanks']\n",
            "Top words in CLUSTER  6:['phone', 'like', 'card', 'good', 'sim', 'screen', 'use', 'review']\n",
            "Top words in CLUSTER  7:['phone', 'work', 'good', 'ok', 'bad', 'love', 'working', 'use']\n"
          ]
        }
      ]
    },
    {
      "cell_type": "code",
      "metadata": {
        "id": "ROC7gxwGxvgE"
      },
      "source": [
        "# DBSCAN clustering\n",
        "\n",
        "phone_reviews=[]\n",
        "for i in df['Reviews']:\n",
        "    phone_reviews.append(str(i).split())\n",
        "import gensim\n",
        "#Training the wor2vec model using train dataset\n",
        "w2v_model=gensim.models.Word2Vec(phone_reviews, size=100, workers=4)"
      ],
      "execution_count": 11,
      "outputs": []
    },
    {
      "cell_type": "code",
      "metadata": {
        "id": "CHxkZJUYxxfc",
        "colab": {
          "base_uri": "https://localhost:8080/"
        },
        "outputId": "80009ff6-8f87-48ff-b6fc-55cbbe34316f"
      },
      "source": [
        "import numpy as np\n",
        "# the avg-w2v for each sentence/review is stored in this list\n",
        "vectors = []\n",
        "for i in phone_reviews:\n",
        "    vector = np.zeros(100)\n",
        "    # word vectors are of zero length\n",
        "    count = 0\n",
        "    for word in i:\n",
        "        try:\n",
        "            vec = w2v_model.wv[word]\n",
        "            vector += vec\n",
        "            count += 1\n",
        "        except:\n",
        "            pass\n",
        "    vector /= count\n",
        "    vectors.append(vector)  \n",
        "vectors = np.array(vectors)\n",
        "vectors = np.nan_to_num(vectors)"
      ],
      "execution_count": 12,
      "outputs": [
        {
          "output_type": "stream",
          "name": "stderr",
          "text": [
            "/usr/local/lib/python3.7/dist-packages/ipykernel_launcher.py:15: RuntimeWarning: invalid value encountered in true_divide\n",
            "  from ipykernel import kernelapp as app\n"
          ]
        }
      ]
    },
    {
      "cell_type": "code",
      "metadata": {
        "id": "-HEbVQhOx1Lg"
      },
      "source": [
        "# Computing 200th Nearest neighbour distance\n",
        "from sklearn.cluster import DBSCAN\n",
        "minPts = 2 * 100\n",
        "\n",
        "def lower_bound(nums, target): \n",
        "    l, r = 0, len(nums) - 1\n",
        "    while l <= r:\n",
        "        mid = int(l + (r - l) / 2)\n",
        "        if nums[mid] >= target:\n",
        "            r = mid - 1\n",
        "        else:\n",
        "            l = mid + 1\n",
        "    return l\n",
        "\n",
        "def compute200thnearestneighbour(x, data): \n",
        "    dists = []\n",
        "    for val in data:\n",
        "        dist = np.sum((x - val) **2 ) \n",
        "        if(len(dists) == 200 and dists[199] > dist): \n",
        "            l = int(lower_bound(dists, dist)) \n",
        "            if l < 200 and l >= 0 and dists[l] > dist:\n",
        "                dists[l] = dist\n",
        "        else:\n",
        "            dists.append(dist)\n",
        "            dists.sort()\n",
        "# Dist 199 contains the distance of 200th nearest neighbour.    \n",
        "    return dists[199]\n",
        "\n",
        "vectors.shape\n",
        "\n",
        "neighbor = []\n",
        "for val in vectors[:400]:\n",
        "    neighbor.append(compute200thnearestneighbour(val, vectors[:400]))\n",
        "neighbor.sort()"
      ],
      "execution_count": 13,
      "outputs": []
    },
    {
      "cell_type": "code",
      "metadata": {
        "id": "ve3qixQzygQv",
        "colab": {
          "base_uri": "https://localhost:8080/",
          "height": 350
        },
        "outputId": "b0f53621-0910-4268-ffac-dc1726fd967f"
      },
      "source": [
        "%matplotlib inline\n",
        "from matplotlib import pyplot as plt\n",
        "# Plotting for the Elbow Method :\n",
        "plt.figure(figsize=(5,5))\n",
        "plt.title(\"Elbow Method\")\n",
        "plt.plot([x for x in range(len(neighbor))], neighbor)\n",
        "plt.xlabel(\"length\")\n",
        "plt.ylabel(\"Distance\")\n",
        "plt.show()"
      ],
      "execution_count": 14,
      "outputs": [
        {
          "output_type": "display_data",
          "data": {
            "image/png": "[encoded data removed]",
            "text/plain": [
              "<Figure size 360x360 with 1 Axes>"
            ]
          },
          "metadata": {
            "needs_background": "light"
          }
        }
      ]
    },
    {
      "cell_type": "code",
      "metadata": {
        "id": "_7BxQfvByt6w",
        "colab": {
          "base_uri": "https://localhost:8080/",
          "height": 282
        },
        "outputId": "ea6a41a0-bff5-4537-b25b-29a8b4ebb0ad"
      },
      "source": [
        "#Hierarchical clustering\n",
        "import scipy\n",
        "from scipy.cluster import hierarchy\n",
        "dendro=hierarchy.dendrogram(hierarchy.linkage(vectors,method='ward'))\n",
        "plt.axhline(y=20)"
      ],
      "execution_count": 15,
      "outputs": [
        {
          "output_type": "execute_result",
          "data": {
            "text/plain": [
              "<matplotlib.lines.Line2D at 0x7f9e2b71bf50>"
            ]
          },
          "metadata": {},
          "execution_count": 15
        },
        {
          "output_type": "display_data",
          "data": {
            "image/png": "[encoded data removed]",
            "text/plain": [
              "<Figure size 432x288 with 1 Axes>"
            ]
          },
          "metadata": {
            "needs_background": "light"
          }
        }
      ]
    },
    {
      "cell_type": "code",
      "metadata": {
        "id": "L2YSCEnavJa3"
      },
      "source": [
        "from sklearn.cluster import AgglomerativeClustering\n",
        "\n",
        "cluster = AgglomerativeClustering(n_clusters=5, affinity='euclidean', linkage='ward')  #took n=5 from dendrogram curve \n",
        "Agg=cluster.fit_predict(vectors)"
      ],
      "execution_count": 17,
      "outputs": []
    },
    {
      "cell_type": "code",
      "metadata": {
        "colab": {
          "base_uri": "https://localhost:8080/",
          "height": 162
        },
        "id": "IZlj_Rc6vx3-",
        "outputId": "02c990cf-c157-41a3-c3fc-fddaf8ce4e53"
      },
      "source": [
        "# Giving Labels/assigning a cluster to each point/text \n",
        "df['AVG-W2V Clus Label'] = cluster.labels_\n",
        "df.head(2)"
      ],
      "execution_count": 20,
      "outputs": [
        {
          "output_type": "execute_result",
          "data": {
            "text/html": [
              "<div>\n",
              "<style scoped>\n",
              "    .dataframe tbody tr th:only-of-type {\n",
              "        vertical-align: middle;\n",
              "    }\n",
              "\n",
              "    .dataframe tbody tr th {\n",
              "        vertical-align: top;\n",
              "    }\n",
              "\n",
              "    .dataframe thead th {\n",
              "        text-align: right;\n",
              "    }\n",
              "</style>\n",
              "<table border=\"1\" class=\"dataframe\">\n",
              "  <thead>\n",
              "    <tr style=\"text-align: right;\">\n",
              "      <th></th>\n",
              "      <th>Product Name</th>\n",
              "      <th>Brand Name</th>\n",
              "      <th>Price</th>\n",
              "      <th>Rating</th>\n",
              "      <th>Reviews</th>\n",
              "      <th>Review Votes</th>\n",
              "      <th>AVG-W2V Clus Label</th>\n",
              "    </tr>\n",
              "  </thead>\n",
              "  <tbody>\n",
              "    <tr>\n",
              "      <th>0</th>\n",
              "      <td>\"CLEAR CLEAN ESN\" Sprint EPIC 4G Galaxy SPH-D7...</td>\n",
              "      <td>Samsung</td>\n",
              "      <td>199.99</td>\n",
              "      <td>5</td>\n",
              "      <td>feel lucky found used phone u used hard phone ...</td>\n",
              "      <td>1.0</td>\n",
              "      <td>0</td>\n",
              "    </tr>\n",
              "    <tr>\n",
              "      <th>1</th>\n",
              "      <td>\"CLEAR CLEAN ESN\" Sprint EPIC 4G Galaxy SPH-D7...</td>\n",
              "      <td>Samsung</td>\n",
              "      <td>199.99</td>\n",
              "      <td>4</td>\n",
              "      <td>nice phone nice grade pantach revue clean set ...</td>\n",
              "      <td>0.0</td>\n",
              "      <td>0</td>\n",
              "    </tr>\n",
              "  </tbody>\n",
              "</table>\n",
              "</div>"
            ],
            "text/plain": [
              "                                        Product Name  ... AVG-W2V Clus Label\n",
              "0  \"CLEAR CLEAN ESN\" Sprint EPIC 4G Galaxy SPH-D7...  ...                  0\n",
              "1  \"CLEAR CLEAN ESN\" Sprint EPIC 4G Galaxy SPH-D7...  ...                  0\n",
              "\n",
              "[2 rows x 7 columns]"
            ]
          },
          "metadata": {},
          "execution_count": 20
        }
      ]
    },
    {
      "cell_type": "markdown",
      "metadata": {
        "id": "DX35NGQoPvMx"
      },
      "source": [
        "In one paragraph, please compare K means, DBSCAN and Hierarchical clustering."
      ]
    },
    {
      "cell_type": "code",
      "metadata": {
        "id": "UrHcBfq_PvMy"
      },
      "source": [
        "#You can write you answer here. (No code needed)\n",
        "# K-means clustering is an unsupervised learning algorithm in which data that have not been labeled are grouped \n",
        "# together based on the similarities between each other. It is an iterative process in which first random k \n",
        "# values are determined. A trial and error can be used while determining the k values and then as a greater number of models are run the values of k can be changed based on what the model has learned\n",
        "# In hierachical clustering the data are grouped in layers of hierarchy. All the data points in the beginning are assigned\n",
        "# to a cluster of their own. The 2 clusters that are the closest are then combined to form one cluster. This process repets\n",
        "# and terminates when there is only cluster left. DBSCAN stands for DBSCAN stands for density-based spatial clustering\n",
        "# of applications with noise. This type of clustering is capable of finding not only the random shaped clusters but\n",
        "# also that ones that contain outliers. They focus on density and thus their main aim is to seperate areas of high \n",
        "# density from areas of low density. Out of the k-means and dbscan clustering k-means clustering is more capable of \n",
        "# dealing with large data.\n"
      ],
      "execution_count": null,
      "outputs": []
    }
  ]
}